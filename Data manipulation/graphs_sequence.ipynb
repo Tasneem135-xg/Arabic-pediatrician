{
 "cells": [
  {
   "cell_type": "markdown",
   "metadata": {},
   "source": [
    "# Preprocessing"
   ]
  },
  {
   "cell_type": "code",
   "execution_count": 1,
   "metadata": {},
   "outputs": [],
   "source": [
    "import pandas as pd\n",
    "import numpy as np\n",
    "import matplotlib.pyplot as plt\n",
    "import re\n",
    "import nltk\n",
    "from nltk.tokenize import word_tokenize"
   ]
  },
  {
   "cell_type": "code",
   "execution_count": 2,
   "metadata": {},
   "outputs": [
    {
     "data": {
      "text/plain": [
       "(2285, 3)"
      ]
     },
     "execution_count": 2,
     "metadata": {},
     "output_type": "execute_result"
    }
   ],
   "source": [
    "df = pd.read_excel (r'cleaning_1.xlsx')\n",
    "df.shape"
   ]
  },
  {
   "cell_type": "code",
   "execution_count": 3,
   "metadata": {},
   "outputs": [],
   "source": [
    "df['intent'].replace(to_replace=[' drug+dose','drug+dose', 'drug+dpse'], value='drugs', inplace=True)\n",
    "df['intent'].replace(to_replace=['contageos', 'contagious'] ,value ='contageous', inplace=True)\n",
    "df['intent'].replace(to_replace=['info', 'Info'], value='information', inplace=True)"
   ]
  },
  {
   "cell_type": "code",
   "execution_count": 4,
   "metadata": {},
   "outputs": [],
   "source": [
    "dff= df[(df['intent'] !='contageous')&(df['intent'] !='information')&(df['intent']!='options')&(df['intent'] !='reaction')&(df['intent'] !='test')]"
   ]
  },
  {
   "cell_type": "code",
   "execution_count": 5,
   "metadata": {},
   "outputs": [
    {
     "data": {
      "text/plain": [
       "array(['drugs', 'food+product', 'symptoms', 'vaccine'], dtype=object)"
      ]
     },
     "execution_count": 5,
     "metadata": {},
     "output_type": "execute_result"
    }
   ],
   "source": [
    "dff.intent.unique()"
   ]
  },
  {
   "cell_type": "code",
   "execution_count": 6,
   "metadata": {},
   "outputs": [
    {
     "data": {
      "text/plain": [
       "(1984, 3)"
      ]
     },
     "execution_count": 6,
     "metadata": {},
     "output_type": "execute_result"
    }
   ],
   "source": [
    "dff.shape"
   ]
  },
  {
   "cell_type": "markdown",
   "metadata": {},
   "source": [
    "# finding the sequence length"
   ]
  },
  {
   "cell_type": "code",
   "execution_count": 7,
   "metadata": {},
   "outputs": [
    {
     "name": "stderr",
     "output_type": "stream",
     "text": [
      "C:\\Users\\T.Mohamed\\Anaconda3\\lib\\site-packages\\ipykernel_launcher.py:1: SettingWithCopyWarning: \n",
      "A value is trying to be set on a copy of a slice from a DataFrame.\n",
      "Try using .loc[row_indexer,col_indexer] = value instead\n",
      "\n",
      "See the caveats in the documentation: https://pandas.pydata.org/pandas-docs/stable/user_guide/indexing.html#returning-a-view-versus-a-copy\n",
      "  \"\"\"Entry point for launching an IPython kernel.\n"
     ]
    }
   ],
   "source": [
    "dff['word_count'] = dff['question'].str.split().map(len)\n",
    "\n",
    "\n",
    "\n",
    "\n",
    "\n",
    "#print(dff['word_count'].describe())"
   ]
  },
  {
   "cell_type": "code",
   "execution_count": 8,
   "metadata": {},
   "outputs": [
    {
     "data": {
      "text/plain": [
       "0    23\n",
       "dtype: int64"
      ]
     },
     "execution_count": 8,
     "metadata": {},
     "output_type": "execute_result"
    }
   ],
   "source": [
    "dff['word_count'].mode()"
   ]
  },
  {
   "cell_type": "code",
   "execution_count": 9,
   "metadata": {},
   "outputs": [
    {
     "data": {
      "text/plain": [
       "24.292047379477495"
      ]
     },
     "execution_count": 9,
     "metadata": {},
     "output_type": "execute_result"
    }
   ],
   "source": [
    "dff.groupby('intent')['word_count'].mean().values.mean()"
   ]
  },
  {
   "cell_type": "code",
   "execution_count": 10,
   "metadata": {},
   "outputs": [
    {
     "data": {
      "text/plain": [
       "24.292047379477495"
      ]
     },
     "execution_count": 10,
     "metadata": {},
     "output_type": "execute_result"
    }
   ],
   "source": [
    "dff.groupby('intent')['word_count'].mean().values.mean()"
   ]
  },
  {
   "cell_type": "code",
   "execution_count": 11,
   "metadata": {},
   "outputs": [
    {
     "data": {
      "text/plain": [
       "<matplotlib.axes._subplots.AxesSubplot at 0x19d103434c8>"
      ]
     },
     "execution_count": 11,
     "metadata": {},
     "output_type": "execute_result"
    },
    {
     "data": {
      "image/png": "[encoded data removed]",
      "text/plain": [
       "<Figure size 432x288 with 1 Axes>"
      ]
     },
     "metadata": {
      "needs_background": "light"
     },
     "output_type": "display_data"
    }
   ],
   "source": [
    "dff[dff['intent']==\"vaccine\"][\"question\"].str.len().hist()"
   ]
  },
  {
   "cell_type": "code",
   "execution_count": 12,
   "metadata": {},
   "outputs": [
    {
     "data": {
      "image/png": "[encoded data removed]",
      "text/plain": [
       "<Figure size 432x288 with 1 Axes>"
      ]
     },
     "metadata": {
      "needs_background": "light"
     },
     "output_type": "display_data"
    }
   ],
   "source": [
    "# to get the maximum sequence\n",
    "vaccine =dff[dff['intent']==\"vaccine\"][\"question\"].str.len()\n",
    "food_product =dff[dff['intent']==\"food+product\"][\"question\"].str.len()\n",
    "symptoms =dff[dff['intent']==\"symptoms\"][\"question\"].str.len()\n",
    "drugs=dff[dff['intent']==\"drugs\"][\"question\"].str.len()\n",
    "\n",
    "\n",
    "plt.hist(symptoms, bins=30, label=\"symptoms\")\n",
    "\n",
    "plt.hist(drugs, bins=30, label=\"drugs\")\n",
    "\n",
    "plt.hist(food_product, bins=30, label=\"food_product\")\n",
    "\n",
    "plt.hist(vaccine, bins=30, label=\"vaccine\")\n",
    "\n",
    "plt.title(\"Question words counts\",fontsize=20);\n",
    "plt.legend()\n",
    "plt.show()"
   ]
  },
  {
   "cell_type": "code",
   "execution_count": 13,
   "metadata": {},
   "outputs": [
    {
     "data": {
      "text/plain": [
       "0       29\n",
       "4       41\n",
       "5       21\n",
       "6       32\n",
       "7       17\n",
       "        ..\n",
       "2278    16\n",
       "2279    14\n",
       "2280    14\n",
       "2282    32\n",
       "2283    40\n",
       "Name: word_count, Length: 1984, dtype: int64"
      ]
     },
     "execution_count": 13,
     "metadata": {},
     "output_type": "execute_result"
    }
   ],
   "source": [
    "dff[\"word_count\"]"
   ]
  },
  {
   "cell_type": "code",
   "execution_count": 174,
   "metadata": {},
   "outputs": [
    {
     "data": {
      "text/plain": [
       "<matplotlib.legend.Legend at 0x19d18eabc08>"
      ]
     },
     "execution_count": 174,
     "metadata": {},
     "output_type": "execute_result"
    },
    {
     "data": {
      "image/png": "[encoded data removed]",
      "text/plain": [
       "<Figure size 1080x576 with 1 Axes>"
      ]
     },
     "metadata": {
      "needs_background": "light"
     },
     "output_type": "display_data"
    }
   ],
   "source": [
    "#x=dff.groupby('intent')['word_count']\n",
    "#plt.figure(figsize=(15,8))\n",
    "boxprops = dict(linestyle='-', linewidth=3, color='r')\n",
    "#medianprops = dict(linestyle='-', linewidth=4, color='r')\n",
    "\n",
    "medianprops = dict(linestyle='-', linewidth=3)\n",
    "\n",
    "boxplot = dff.boxplot(column=['word_count'], by=['intent'],figsize=(15,8)\n",
    "                      ,color=dict(boxes='Black', whiskers='Black', medians='blue', caps='black')\n",
    "                      ,boxprops=boxprops \n",
    "                      ,medianprops=medianprops\n",
    "                     ,capprops=dict(linestyle='-', linewidth=3,color='r')\n",
    "                     ,whiskerprops=dict(linestyle='-', linewidth=3, color='r'));\n",
    "\n",
    "\n",
    "reference = [24]\n",
    "left, right = plt.xlim()\n",
    "\n",
    "\n",
    "plt.hlines(reference, xmin=left, xmax=right, color='r', linestyles='dashed',linewidth=3 ,label=\"24 Words\");\n",
    "\n",
    "plt.suptitle(\"\")\n",
    "boxplot.set_title(\" Number of Question features \",fontsize=25);\n",
    "plt.ylabel(\"Question length\",fontsize=20);\n",
    "#plt.xlabel(\"intent\",fontsize=20);\n",
    "plt.xlabel(\" \",fontsize=20);\n",
    "plt.xticks(fontsize=20);\n",
    "plt.yticks(fontsize=20);\n",
    "\n",
    "\n",
    "plt.hlines(16, xmin=left, xmax=right, color='y', linestyles='dashed',linewidth=3 ,label=\"16 Words-without stop words\");\n",
    "\n",
    "\n",
    "labels = [\"24 Words\"]\n",
    "handles, _ = boxplot.get_legend_handles_labels()\n",
    "\n",
    "# Slice list to remove first handle\n",
    "plt.legend(handles = handles[2:], labels = labels,fontsize=15)\n"
   ]
  },
  {
   "cell_type": "code",
   "execution_count": 175,
   "metadata": {},
   "outputs": [],
   "source": [
    "#fig = boxplot.get_figure()\n",
    "#fig.savefig(\"D:\\output.png\")"
   ]
  },
  {
   "cell_type": "code",
   "execution_count": null,
   "metadata": {},
   "outputs": [],
   "source": []
  },
  {
   "cell_type": "code",
   "execution_count": 16,
   "metadata": {},
   "outputs": [
    {
     "data": {
      "image/png": "[encoded data removed]",
      "text/plain": [
       "<Figure size 432x288 with 1 Axes>"
      ]
     },
     "metadata": {
      "needs_background": "light"
     },
     "output_type": "display_data"
    }
   ],
   "source": [
    "\n",
    "ax = df.plot(kind='box',\n",
    "             color=dict(boxes='r', whiskers='Black', medians='r', caps='b'),\n",
    "          \n",
    "             showfliers=False)\n",
    "ax.set_xlabel('Foo')\n",
    "ax.set_ylabel('Bar in X')\n",
    "plt.show()"
   ]
  },
  {
   "cell_type": "code",
   "execution_count": 17,
   "metadata": {},
   "outputs": [
    {
     "data": {
      "text/plain": [
       "<matplotlib.collections.LineCollection at 0x19d10a82148>"
      ]
     },
     "execution_count": 17,
     "metadata": {},
     "output_type": "execute_result"
    },
    {
     "data": {
      "image/png": "[encoded data removed]",
      "text/plain": [
       "<Figure size 1080x576 with 1 Axes>"
      ]
     },
     "metadata": {
      "needs_background": "light"
     },
     "output_type": "display_data"
    }
   ],
   "source": [
    "import seaborn as sns\n",
    "plt.figure(figsize=(15,8))\n",
    "ax = sns.boxplot(y=\"word_count\", x=\"intent\", data=dff,palette=\"Set2\")\n",
    "\n",
    "reference = [24]\n",
    "left, right = plt.xlim()\n",
    "plt.hlines(reference, xmin=left, xmax=right, color='r', linestyles='dashed')"
   ]
  },
  {
   "cell_type": "markdown",
   "metadata": {},
   "source": [
    "# removing stop words"
   ]
  },
  {
   "cell_type": "code",
   "execution_count": 18,
   "metadata": {},
   "outputs": [],
   "source": [
    "# ==== Helper Methods =====\n",
    "import re\n",
    "import numpy as np\n",
    "from nltk import ngrams\n",
    "import matplotlib.pyplot as plt\n",
    "\n",
    "# Clean/Normalize Arabic Text\n",
    "def clean_str(text):\n",
    "    search = [\"أ\",\"إ\",\"آ\",\"ة\",\"_\",\"-\",\"/\",\".\",\"،\",\" و \",\" يا \",'\"',\"ـ\",\"'\",\"ى\",\"\\\\\",'\\n', '\\t','&quot;','?','؟','!']\n",
    "    replace = [\"ا\",\"ا\",\"ا\",\"ه\",\" \",\" \",\"\",\"\",\"\",\" و\",\" يا\",\"\",\"\",\"\",\"ي\",\"\",' ', ' ',' ',' ? ',' ؟ ',' ! ']\n",
    "    \n",
    "    #remove tashkeel\n",
    "    p_tashkeel = re.compile(r'[\\u0617-\\u061A\\u064B-\\u0652]')\n",
    "    text = re.sub(p_tashkeel,\"\", text)\n",
    "    \n",
    "    #remove longation\n",
    "    p_longation = re.compile(r'(.)\\1+')\n",
    "    subst = r\"\\1\\1\"\n",
    "    text = re.sub(p_longation, subst, text)\n",
    "    \n",
    "    text = text.replace('وو', 'و')\n",
    "    text = text.replace('يي', 'ي')\n",
    "    text = text.replace('اا', 'ا')\n",
    "    \n",
    "    for i in range(0, len(search)):\n",
    "        text = text.replace(search[i], replace[i])\n",
    "    \n",
    "    #trim    \n",
    "    text = text.strip()\n",
    "\n",
    "    return text"
   ]
  },
  {
   "cell_type": "code",
   "execution_count": 19,
   "metadata": {},
   "outputs": [],
   "source": [
    "df['question'] =  df['question'].apply(lambda x: clean_str(x))"
   ]
  },
  {
   "cell_type": "code",
   "execution_count": 20,
   "metadata": {},
   "outputs": [],
   "source": [
    "from nltk.corpus import stopwords\n",
    "stopwords_list = stopwords.words('arabic')\n",
    "#print(stopwords_list)\n",
    "#---------------------------------------------------------------------------\n",
    "egyp=[]\n",
    "# Using readlines()\n",
    "\n",
    "file1 = open(\"stop_words.txt\", \"r\" ,encoding = \"utf-8\")\n",
    "Lines = file1.readlines()\n",
    "count = 0\n",
    "# Strips the newline character\n",
    "for line in Lines:\n",
    "    count += 1\n",
    "    egyp.append(line.strip())\n",
    "    \n",
    "    #print( line.strip())\n",
    "#print(egyp)\n",
    "#----------------------------------------------------------------------------\n",
    "# combine two lists\n",
    "egyp=egyp+stopwords_list"
   ]
  },
  {
   "cell_type": "code",
   "execution_count": 33,
   "metadata": {},
   "outputs": [
    {
     "name": "stderr",
     "output_type": "stream",
     "text": [
      "C:\\Users\\T.Mohamed\\Anaconda3\\lib\\site-packages\\ipykernel_launcher.py:1: SettingWithCopyWarning: \n",
      "A value is trying to be set on a copy of a slice from a DataFrame.\n",
      "Try using .loc[row_indexer,col_indexer] = value instead\n",
      "\n",
      "See the caveats in the documentation: https://pandas.pydata.org/pandas-docs/stable/user_guide/indexing.html#returning-a-view-versus-a-copy\n",
      "  \"\"\"Entry point for launching an IPython kernel.\n"
     ]
    }
   ],
   "source": [
    "dff['question']=dff['question'].apply(lambda words: ' '.join(re.sub('^(ال)',\"\",word)\n",
    "                                                           for word in words.split() if ((word not in egyp))))"
   ]
  },
  {
   "cell_type": "code",
   "execution_count": 34,
   "metadata": {},
   "outputs": [
    {
     "name": "stderr",
     "output_type": "stream",
     "text": [
      "C:\\Users\\T.Mohamed\\Anaconda3\\lib\\site-packages\\ipykernel_launcher.py:1: SettingWithCopyWarning: \n",
      "A value is trying to be set on a copy of a slice from a DataFrame.\n",
      "Try using .loc[row_indexer,col_indexer] = value instead\n",
      "\n",
      "See the caveats in the documentation: https://pandas.pydata.org/pandas-docs/stable/user_guide/indexing.html#returning-a-view-versus-a-copy\n",
      "  \"\"\"Entry point for launching an IPython kernel.\n"
     ]
    }
   ],
   "source": [
    "dff['word_count_nostop'] = dff['question'].str.split().map(len)"
   ]
  },
  {
   "cell_type": "code",
   "execution_count": 176,
   "metadata": {},
   "outputs": [
    {
     "data": {
      "text/plain": [
       "<matplotlib.legend.Legend at 0x19d17de1ac8>"
      ]
     },
     "execution_count": 176,
     "metadata": {},
     "output_type": "execute_result"
    },
    {
     "data": {
      "image/png": "[encoded data removed]",
      "text/plain": [
       "<Figure size 1080x576 with 1 Axes>"
      ]
     },
     "metadata": {
      "needs_background": "light"
     },
     "output_type": "display_data"
    }
   ],
   "source": [
    "#x=dff.groupby('intent')['word_count']\n",
    "#plt.figure(figsize=(15,8))\n",
    "boxprops = dict(linestyle='-', linewidth=3, color='r')\n",
    "#medianprops = dict(linestyle='-', linewidth=4, color='r')\n",
    "\n",
    "medianprops = dict(linestyle='-', linewidth=3)\n",
    "\n",
    "boxplot = dff.boxplot(column=['word_count_nostop'], by=['intent'],figsize=(15,8)\n",
    "                      ,color=dict(boxes='Black', whiskers='Black', medians='blue', caps='black')\n",
    "                      ,boxprops=boxprops \n",
    "                      ,medianprops=medianprops\n",
    "                     ,capprops=dict(linestyle='-', linewidth=3,color='r')\n",
    "                     ,whiskerprops=dict(linestyle='-', linewidth=3, color='r'));\n",
    "\n",
    "\n",
    "\n",
    "reference = [24]\n",
    "left, right = plt.xlim()\n",
    "\n",
    "\n",
    "plt.hlines(reference, xmin=left, xmax=right, color='r', linestyles='dashed',linewidth=3 ,label=\"24 Words-with stop words\");\n",
    "\n",
    "plt.hlines(16, xmin=left, xmax=right, color='y', linestyles='dashed',linewidth=3 ,label=\"16 Words-without stop words\");\n",
    "\n",
    "plt.suptitle(\"\")\n",
    "boxplot.set_title(\" Number of Question features \",fontsize=25);\n",
    "plt.ylabel(\"Question length\",fontsize=20);\n",
    "#plt.xlabel(\"intent\",fontsize=20);\n",
    "plt.xlabel(\" \",fontsize=20);\n",
    "plt.xticks(fontsize=20);\n",
    "plt.yticks(fontsize=20);\n",
    "\n",
    "\n",
    "\n",
    "\n",
    "\n",
    "labels = [\"24 Words-with stop words\",\"16 Words-without stop words\"]\n",
    "handles, _ = boxplot.get_legend_handles_labels()\n",
    "\n",
    "# Slice list to remove first handle\n",
    "plt.legend(handles = handles[2:], labels = labels,fontsize=15)"
   ]
  },
  {
   "cell_type": "code",
   "execution_count": 177,
   "metadata": {},
   "outputs": [],
   "source": [
    "fig = boxplot.get_figure()\n",
    "fig.savefig(\"D:\\outputtt.png\")"
   ]
  },
  {
   "cell_type": "code",
   "execution_count": 160,
   "metadata": {},
   "outputs": [
    {
     "data": {
      "text/html": [
       "<div>\n",
       "<style scoped>\n",
       "    .dataframe tbody tr th:only-of-type {\n",
       "        vertical-align: middle;\n",
       "    }\n",
       "\n",
       "    .dataframe tbody tr th {\n",
       "        vertical-align: top;\n",
       "    }\n",
       "\n",
       "    .dataframe thead th {\n",
       "        text-align: right;\n",
       "    }\n",
       "</style>\n",
       "<table border=\"1\" class=\"dataframe\">\n",
       "  <thead>\n",
       "    <tr style=\"text-align: right;\">\n",
       "      <th></th>\n",
       "      <th>question</th>\n",
       "      <th>new_id</th>\n",
       "      <th>intent</th>\n",
       "      <th>word_count</th>\n",
       "      <th>word_count_nostop</th>\n",
       "    </tr>\n",
       "  </thead>\n",
       "  <tbody>\n",
       "    <tr>\n",
       "      <th>0</th>\n",
       "      <td>لديها حساسيه صدر تاتيها كحه جافه اطباء كحه نبا...</td>\n",
       "      <td>1465</td>\n",
       "      <td>drugs</td>\n",
       "      <td>29</td>\n",
       "      <td>12</td>\n",
       "    </tr>\n",
       "    <tr>\n",
       "      <th>4</th>\n",
       "      <td>nطفلي سنة شهرين يعاني احتقان بالحلق يتناول مضا...</td>\n",
       "      <td>8</td>\n",
       "      <td>drugs</td>\n",
       "      <td>41</td>\n",
       "      <td>28</td>\n",
       "    </tr>\n",
       "    <tr>\n",
       "      <th>5</th>\n",
       "      <td>ابنتي 4 اعطاها دكتور دواء Teedex دواء مكتوب يع...</td>\n",
       "      <td>13</td>\n",
       "      <td>drugs</td>\n",
       "      <td>21</td>\n",
       "      <td>12</td>\n",
       "    </tr>\n",
       "    <tr>\n",
       "      <th>6</th>\n",
       "      <td>سنه ونصفالانيميا ١٠مع علم ١١ وبياخد حديد سبريا...</td>\n",
       "      <td>19</td>\n",
       "      <td>drugs</td>\n",
       "      <td>32</td>\n",
       "      <td>20</td>\n",
       "    </tr>\n",
       "    <tr>\n",
       "      <th>7</th>\n",
       "      <td>اريد استفسار منوم اطفال يسبب مضاعفات مشاكل صحي...</td>\n",
       "      <td>21</td>\n",
       "      <td>drugs</td>\n",
       "      <td>17</td>\n",
       "      <td>14</td>\n",
       "    </tr>\n",
       "    <tr>\n",
       "      <th>...</th>\n",
       "      <td>...</td>\n",
       "      <td>...</td>\n",
       "      <td>...</td>\n",
       "      <td>...</td>\n",
       "      <td>...</td>\n",
       "    </tr>\n",
       "    <tr>\n",
       "      <th>2278</th>\n",
       "      <td>يمكن للورم نجمي شعري خلايا درجة 1 بالدماغ nان ...</td>\n",
       "      <td>2421</td>\n",
       "      <td>drugs</td>\n",
       "      <td>16</td>\n",
       "      <td>14</td>\n",
       "    </tr>\n",
       "    <tr>\n",
       "      <th>2279</th>\n",
       "      <td>يمكنني اعطاء سنه حليب ابل وباي مني</td>\n",
       "      <td>2424</td>\n",
       "      <td>food+product</td>\n",
       "      <td>14</td>\n",
       "      <td>7</td>\n",
       "    </tr>\n",
       "    <tr>\n",
       "      <th>2280</th>\n",
       "      <td>يمكني اعطاء 6شهور منوم يومي حالات شديده</td>\n",
       "      <td>2426</td>\n",
       "      <td>drugs</td>\n",
       "      <td>14</td>\n",
       "      <td>7</td>\n",
       "    </tr>\n",
       "    <tr>\n",
       "      <th>2282</th>\n",
       "      <td>يوجد حل لطفلتي تعاني اسهال مزمن ولاده واخر شخص...</td>\n",
       "      <td>2432</td>\n",
       "      <td>drugs</td>\n",
       "      <td>32</td>\n",
       "      <td>24</td>\n",
       "    </tr>\n",
       "    <tr>\n",
       "      <th>2283</th>\n",
       "      <td>يوجد ضرر باعطاء طفل حليب مراعي بدل بودره علما ...</td>\n",
       "      <td>2435</td>\n",
       "      <td>food+product</td>\n",
       "      <td>40</td>\n",
       "      <td>32</td>\n",
       "    </tr>\n",
       "  </tbody>\n",
       "</table>\n",
       "<p>1984 rows × 5 columns</p>\n",
       "</div>"
      ],
      "text/plain": [
       "                                               question  new_id        intent  \\\n",
       "0     لديها حساسيه صدر تاتيها كحه جافه اطباء كحه نبا...    1465         drugs   \n",
       "4     nطفلي سنة شهرين يعاني احتقان بالحلق يتناول مضا...       8         drugs   \n",
       "5     ابنتي 4 اعطاها دكتور دواء Teedex دواء مكتوب يع...      13         drugs   \n",
       "6     سنه ونصفالانيميا ١٠مع علم ١١ وبياخد حديد سبريا...      19         drugs   \n",
       "7     اريد استفسار منوم اطفال يسبب مضاعفات مشاكل صحي...      21         drugs   \n",
       "...                                                 ...     ...           ...   \n",
       "2278  يمكن للورم نجمي شعري خلايا درجة 1 بالدماغ nان ...    2421         drugs   \n",
       "2279                 يمكنني اعطاء سنه حليب ابل وباي مني    2424  food+product   \n",
       "2280            يمكني اعطاء 6شهور منوم يومي حالات شديده    2426         drugs   \n",
       "2282  يوجد حل لطفلتي تعاني اسهال مزمن ولاده واخر شخص...    2432         drugs   \n",
       "2283  يوجد ضرر باعطاء طفل حليب مراعي بدل بودره علما ...    2435  food+product   \n",
       "\n",
       "      word_count  word_count_nostop  \n",
       "0             29                 12  \n",
       "4             41                 28  \n",
       "5             21                 12  \n",
       "6             32                 20  \n",
       "7             17                 14  \n",
       "...          ...                ...  \n",
       "2278          16                 14  \n",
       "2279          14                  7  \n",
       "2280          14                  7  \n",
       "2282          32                 24  \n",
       "2283          40                 32  \n",
       "\n",
       "[1984 rows x 5 columns]"
      ]
     },
     "execution_count": 160,
     "metadata": {},
     "output_type": "execute_result"
    }
   ],
   "source": [
    "dff"
   ]
  },
  {
   "cell_type": "code",
   "execution_count": 161,
   "metadata": {},
   "outputs": [
    {
     "name": "stderr",
     "output_type": "stream",
     "text": [
      "C:\\Users\\T.Mohamed\\Anaconda3\\lib\\site-packages\\ipykernel_launcher.py:1: FutureWarning: Indexing with multiple keys (implicitly converted to a tuple of keys) will be deprecated, use a list instead.\n",
      "  \"\"\"Entry point for launching an IPython kernel.\n"
     ]
    },
    {
     "data": {
      "text/html": [
       "<div>\n",
       "<style scoped>\n",
       "    .dataframe tbody tr th:only-of-type {\n",
       "        vertical-align: middle;\n",
       "    }\n",
       "\n",
       "    .dataframe tbody tr th {\n",
       "        vertical-align: top;\n",
       "    }\n",
       "\n",
       "    .dataframe thead th {\n",
       "        text-align: right;\n",
       "    }\n",
       "</style>\n",
       "<table border=\"1\" class=\"dataframe\">\n",
       "  <thead>\n",
       "    <tr style=\"text-align: right;\">\n",
       "      <th></th>\n",
       "      <th>word_count</th>\n",
       "      <th>word_count_nostop</th>\n",
       "    </tr>\n",
       "  </thead>\n",
       "  <tbody>\n",
       "    <tr>\n",
       "      <th>0</th>\n",
       "      <td>29</td>\n",
       "      <td>12</td>\n",
       "    </tr>\n",
       "    <tr>\n",
       "      <th>4</th>\n",
       "      <td>41</td>\n",
       "      <td>28</td>\n",
       "    </tr>\n",
       "    <tr>\n",
       "      <th>5</th>\n",
       "      <td>21</td>\n",
       "      <td>12</td>\n",
       "    </tr>\n",
       "    <tr>\n",
       "      <th>6</th>\n",
       "      <td>32</td>\n",
       "      <td>20</td>\n",
       "    </tr>\n",
       "    <tr>\n",
       "      <th>7</th>\n",
       "      <td>17</td>\n",
       "      <td>14</td>\n",
       "    </tr>\n",
       "    <tr>\n",
       "      <th>500</th>\n",
       "      <td>31</td>\n",
       "      <td>22</td>\n",
       "    </tr>\n",
       "    <tr>\n",
       "      <th>501</th>\n",
       "      <td>18</td>\n",
       "      <td>13</td>\n",
       "    </tr>\n",
       "    <tr>\n",
       "      <th>502</th>\n",
       "      <td>11</td>\n",
       "      <td>8</td>\n",
       "    </tr>\n",
       "    <tr>\n",
       "      <th>503</th>\n",
       "      <td>9</td>\n",
       "      <td>7</td>\n",
       "    </tr>\n",
       "    <tr>\n",
       "      <th>504</th>\n",
       "      <td>8</td>\n",
       "      <td>6</td>\n",
       "    </tr>\n",
       "    <tr>\n",
       "      <th>901</th>\n",
       "      <td>32</td>\n",
       "      <td>28</td>\n",
       "    </tr>\n",
       "    <tr>\n",
       "      <th>902</th>\n",
       "      <td>31</td>\n",
       "      <td>24</td>\n",
       "    </tr>\n",
       "    <tr>\n",
       "      <th>903</th>\n",
       "      <td>30</td>\n",
       "      <td>22</td>\n",
       "    </tr>\n",
       "    <tr>\n",
       "      <th>904</th>\n",
       "      <td>43</td>\n",
       "      <td>31</td>\n",
       "    </tr>\n",
       "    <tr>\n",
       "      <th>905</th>\n",
       "      <td>19</td>\n",
       "      <td>11</td>\n",
       "    </tr>\n",
       "    <tr>\n",
       "      <th>1624</th>\n",
       "      <td>23</td>\n",
       "      <td>17</td>\n",
       "    </tr>\n",
       "    <tr>\n",
       "      <th>1625</th>\n",
       "      <td>22</td>\n",
       "      <td>18</td>\n",
       "    </tr>\n",
       "    <tr>\n",
       "      <th>1626</th>\n",
       "      <td>28</td>\n",
       "      <td>21</td>\n",
       "    </tr>\n",
       "    <tr>\n",
       "      <th>1627</th>\n",
       "      <td>26</td>\n",
       "      <td>23</td>\n",
       "    </tr>\n",
       "    <tr>\n",
       "      <th>1628</th>\n",
       "      <td>19</td>\n",
       "      <td>14</td>\n",
       "    </tr>\n",
       "  </tbody>\n",
       "</table>\n",
       "</div>"
      ],
      "text/plain": [
       "      word_count  word_count_nostop\n",
       "0             29                 12\n",
       "4             41                 28\n",
       "5             21                 12\n",
       "6             32                 20\n",
       "7             17                 14\n",
       "500           31                 22\n",
       "501           18                 13\n",
       "502           11                  8\n",
       "503            9                  7\n",
       "504            8                  6\n",
       "901           32                 28\n",
       "902           31                 24\n",
       "903           30                 22\n",
       "904           43                 31\n",
       "905           19                 11\n",
       "1624          23                 17\n",
       "1625          22                 18\n",
       "1626          28                 21\n",
       "1627          26                 23\n",
       "1628          19                 14"
      ]
     },
     "execution_count": 161,
     "metadata": {},
     "output_type": "execute_result"
    }
   ],
   "source": [
    "x=dff.groupby(['intent'])['word_count','word_count_nostop']\n",
    "x.head()"
   ]
  },
  {
   "cell_type": "code",
   "execution_count": 169,
   "metadata": {},
   "outputs": [],
   "source": []
  },
  {
   "cell_type": "code",
   "execution_count": 172,
   "metadata": {},
   "outputs": [
    {
     "name": "stderr",
     "output_type": "stream",
     "text": [
      "C:\\Users\\T.Mohamed\\Anaconda3\\lib\\site-packages\\pandas\\plotting\\_matplotlib\\boxplot.py:375: UserWarning: To output multiple subplots, the figure containing the passed axes is being cleared\n",
      "  **kwds,\n"
     ]
    },
    {
     "data": {
      "text/plain": [
       "<matplotlib.legend.Legend at 0x19d17c79c08>"
      ]
     },
     "execution_count": 172,
     "metadata": {},
     "output_type": "execute_result"
    },
    {
     "data": {
      "image/png": "[encoded data removed]",
      "text/plain": [
       "<Figure size 720x576 with 2 Axes>"
      ]
     },
     "metadata": {
      "needs_background": "light"
     },
     "output_type": "display_data"
    }
   ],
   "source": [
    "#dff\n",
    "import pandas as pd\n",
    "import matplotlib.pyplot as plt\n",
    "\n",
    "\n",
    "fig, ax = plt.subplots(figsize=(10,8))\n",
    "plt.suptitle('')\n",
    "dx=dff.iloc[:,[2,3,4]]\n",
    "dx.boxplot( by='intent', ax=ax);\n",
    "reference = [24]\n",
    "left, right = plt.xlim()\n",
    "\n",
    "\n",
    "plt.hlines(reference, xmin=left, xmax=right, color='r', linestyles='dashed',linewidth=3 ,label=\"24 Words-with stop words\");\n",
    "\n",
    "plt.hlines(16, xmin=left, xmax=right, color='y', linestyles='dashed',linewidth=3 ,label=\"16 Words-without stop words\");\n",
    "\n",
    "plt.suptitle(\"\")\n",
    "boxplot.set_title(\" Number of Question features \",fontsize=25);\n",
    "plt.ylabel(\"Question length\",fontsize=20);\n",
    "#plt.xlabel(\"intent\",fontsize=20);\n",
    "plt.xlabel(\" \",fontsize=20);\n",
    "plt.xticks(fontsize=20);\n",
    "plt.yticks(fontsize=20);\n",
    "\n",
    "\n",
    "\n",
    "\n",
    "\n",
    "labels = [\"24 Words-with stop words\",\"16 Words-without stop words\"]\n",
    "handles, _ = boxplot.get_legend_handles_labels()\n",
    "\n",
    "# Slice list to remove first handle\n",
    "plt.legend(handles = handles[2:], labels = labels,fontsize=15)\n"
   ]
  },
  {
   "cell_type": "code",
   "execution_count": null,
   "metadata": {},
   "outputs": [],
   "source": []
  }
 ],
 "metadata": {
  "kernelspec": {
   "display_name": "Python 3",
   "language": "python",
   "name": "python3"
  },
  "language_info": {
   "codemirror_mode": {
    "name": "ipython",
    "version": 3
   },
   "file_extension": ".py",
   "mimetype": "text/x-python",
   "name": "python",
   "nbconvert_exporter": "python",
   "pygments_lexer": "ipython3",
   "version": "3.7.6"
  }
 },
 "nbformat": 4,
 "nbformat_minor": 4
}
