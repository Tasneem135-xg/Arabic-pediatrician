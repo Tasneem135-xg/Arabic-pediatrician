{
 "cells": [
  {
   "cell_type": "code",
   "execution_count": 1,
   "metadata": {},
   "outputs": [],
   "source": [
    "import pandas as pd\n",
    "import numpy as np\n",
    "import matplotlib.pyplot as plt\n",
    "import re\n",
    "import nltk\n",
    "from nltk.tokenize import word_tokenize"
   ]
  },
  {
   "cell_type": "code",
   "execution_count": 2,
   "metadata": {},
   "outputs": [
    {
     "data": {
      "text/plain": [
       "(2285, 3)"
      ]
     },
     "execution_count": 2,
     "metadata": {},
     "output_type": "execute_result"
    }
   ],
   "source": [
    "df = pd.read_excel (r'cleaning_1.xlsx')\n",
    "df.shape"
   ]
  },
  {
   "cell_type": "code",
   "execution_count": 3,
   "metadata": {},
   "outputs": [],
   "source": [
    "df['intent'].replace(to_replace=[' drug+dose','drug+dose', 'drug+dpse'], value='drugs', inplace=True)\n",
    "df['intent'].replace(to_replace=['contageos', 'contagious'] ,value ='contageous', inplace=True)\n",
    "df['intent'].replace(to_replace=['info', 'Info'], value='information', inplace=True)"
   ]
  },
  {
   "cell_type": "code",
   "execution_count": 4,
   "metadata": {},
   "outputs": [
    {
     "data": {
      "text/plain": [
       "array(['drugs', 'contageous', 'food+product', 'information', 'options',\n",
       "       'reaction', 'symptoms', 'test', 'vaccine'], dtype=object)"
      ]
     },
     "execution_count": 4,
     "metadata": {},
     "output_type": "execute_result"
    }
   ],
   "source": [
    "df['intent'].unique()"
   ]
  },
  {
   "cell_type": "code",
   "execution_count": 5,
   "metadata": {},
   "outputs": [],
   "source": [
    "indexNames= df[(df['intent'] =='contageous')&(df['intent'] =='information')&(df['intent']=='options')&(df['intent'] =='reaction')].index \n"
   ]
  },
  {
   "cell_type": "code",
   "execution_count": 6,
   "metadata": {},
   "outputs": [],
   "source": [
    "dff= df[(df['intent'] !='contageous')&(df['intent'] !='information')&(df['intent']!='options')&(df['intent'] !='reaction')]"
   ]
  },
  {
   "cell_type": "code",
   "execution_count": 7,
   "metadata": {},
   "outputs": [
    {
     "data": {
      "text/plain": [
       "array(['drugs', 'food+product', 'symptoms', 'test', 'vaccine'],\n",
       "      dtype=object)"
      ]
     },
     "execution_count": 7,
     "metadata": {},
     "output_type": "execute_result"
    }
   ],
   "source": [
    "dff['intent'].unique()"
   ]
  },
  {
   "cell_type": "code",
   "execution_count": 8,
   "metadata": {},
   "outputs": [
    {
     "data": {
      "text/plain": [
       "0        True\n",
       "4        True\n",
       "5        True\n",
       "6        True\n",
       "7        True\n",
       "        ...  \n",
       "2278     True\n",
       "2279    False\n",
       "2280     True\n",
       "2282     True\n",
       "2283    False\n",
       "Name: intent, Length: 2032, dtype: bool"
      ]
     },
     "execution_count": 8,
     "metadata": {},
     "output_type": "execute_result"
    }
   ],
   "source": [
    "dff['intent']=='drugs'"
   ]
  },
  {
   "cell_type": "code",
   "execution_count": 9,
   "metadata": {},
   "outputs": [],
   "source": [
    "df_drug = dff[dff['intent'] == 'drugs']\n",
    "df_food = dff[dff['intent'] == 'food+product']\n",
    "df_symptom = dff[dff['intent'] == 'symptoms']\n",
    "df_test = dff[dff['intent'] == 'test']\n",
    "df_vaccine= dff[dff['intent'] == 'vaccine']"
   ]
  },
  {
   "cell_type": "code",
   "execution_count": 10,
   "metadata": {},
   "outputs": [],
   "source": [
    "df_drug.to_excel(r'D:\\df_drug.xlsx', index = False)\n",
    "df_food.to_excel(r'D:\\df_food.xlsx', index = False)\n",
    "df_symptom.to_excel(r'D:\\df_symptom.xlsx', index = False)\n",
    "df_test.to_excel(r'D:\\df_test.xlsx', index = False)\n",
    "df_vaccine.to_excel(r'D:\\df_vaccine.xlsx', index = False)"
   ]
  },
  {
   "cell_type": "code",
   "execution_count": 15,
   "metadata": {},
   "outputs": [],
   "source": [
    "drug = pd.read_excel (r'D:\\df_drug.xlsx')\n",
    "drug.to_csv (r'D:\\drug.csv', index = None, header=True)\n",
    "\n",
    "drug['question'].to_csv(r'D:\\drug_question.csv', index = False)\n",
    "\n",
    "#----------------------\n",
    "food = pd.read_excel (r'D:\\df_food.xlsx')\n",
    "food.to_csv (r'D:\\food.csv', index = None, header=True)\n",
    "\n",
    "food['question'].to_csv(r'D:\\food_question.csv', index = False)\n",
    "\n",
    "\n",
    "#---------------------------------\n",
    "\n",
    "symptoms = pd.read_excel (r'D:\\df_symptom.xlsx')\n",
    "symptoms.to_csv (r'D:\\symptoms.csv', index = None, header=True)\n",
    "\n",
    "symptoms['question'].to_csv(r'D:\\symptoms_question.csv', index = False)\n",
    "\n",
    "\n",
    "#---------------------------------------\n",
    "\n",
    "test = pd.read_excel (r'D:\\df_test.xlsx')\n",
    "test.to_csv (r'D:\\test.csv', index = None, header=True)\n",
    "\n",
    "test['question'].to_csv(r'D:\\test_question.csv', index = False)\n",
    "\n",
    "#-----------------------------------------------\n",
    "\n",
    "\n",
    "\n",
    "vaccine = pd.read_excel (r'D:\\df_vaccine.xlsx')\n",
    "vaccine.to_csv (r'D:\\vaccine.csv', index = None, header=True)\n",
    "\n",
    "\n",
    "vaccine['question'].to_csv(r'D:\\vaccine_question.csv', index = False)\n"
   ]
  },
  {
   "cell_type": "code",
   "execution_count": 44,
   "metadata": {},
   "outputs": [],
   "source": [
    "    \n",
    "#read_file = pd.read_excel (r'cleaning_1.xlsx')\n",
    "#read_file.to_csv (r'D:\\Fileeeee.csv', index = None, header=True)"
   ]
  },
  {
   "cell_type": "code",
   "execution_count": null,
   "metadata": {},
   "outputs": [],
   "source": []
  },
  {
   "cell_type": "code",
   "execution_count": 17,
   "metadata": {},
   "outputs": [],
   "source": [
    "dataset=pd.read_csv(r'D:\\Fileeeee.csv')"
   ]
  },
  {
   "cell_type": "code",
   "execution_count": 24,
   "metadata": {},
   "outputs": [],
   "source": [
    "dd=dataset['question']"
   ]
  },
  {
   "cell_type": "code",
   "execution_count": 25,
   "metadata": {},
   "outputs": [],
   "source": [
    "dd.to_csv(r'D:\\Fileeeedddd Name.csv', index = False)"
   ]
  },
  {
   "cell_type": "code",
   "execution_count": null,
   "metadata": {},
   "outputs": [],
   "source": [
    "#df.to_excel(r'D:\\File Name.xlsx', index = False)"
   ]
  }
 ],
 "metadata": {
  "kernelspec": {
   "display_name": "Python 3",
   "language": "python",
   "name": "python3"
  },
  "language_info": {
   "codemirror_mode": {
    "name": "ipython",
    "version": 3
   },
   "file_extension": ".py",
   "mimetype": "text/x-python",
   "name": "python",
   "nbconvert_exporter": "python",
   "pygments_lexer": "ipython3",
   "version": "3.7.6"
  }
 },
 "nbformat": 4,
 "nbformat_minor": 4
}
