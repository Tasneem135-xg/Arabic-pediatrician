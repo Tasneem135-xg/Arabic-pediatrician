{
 "cells": [
  {
   "cell_type": "code",
   "execution_count": 1,
   "metadata": {},
   "outputs": [],
   "source": [
    "import pandas as pd\n",
    "import numpy as np\n",
    "import matplotlib.pyplot as plt\n",
    "import re\n"
   ]
  },
  {
   "cell_type": "code",
   "execution_count": 6,
   "metadata": {},
   "outputs": [
    {
     "data": {
      "text/plain": [
       "array(['Q', 'IV', 'C', nan, 'VAC', 'V', 'M', 'IM', 'N', 'SH', 'IS', 'GR',\n",
       "       'D', 'ID', 'IAG', 'AG', 'S', 'Z', 'DI', 'PN', 'AJ', 'Q2', 'DO',\n",
       "       'JO', 'NEG', 'AT', 'G', 'CH', 'T', 'QQ', 'PN '], dtype=object)"
      ]
     },
     "execution_count": 6,
     "metadata": {},
     "output_type": "execute_result"
    }
   ],
   "source": [
    "\n",
    "df = pd.read_excel (r'vaccine_formatted (1).xlsx')\n",
    "df.POS.unique()"
   ]
  },
  {
   "cell_type": "code",
   "execution_count": 37,
   "metadata": {},
   "outputs": [
    {
     "data": {
      "text/plain": [
       "929"
      ]
     },
     "execution_count": 37,
     "metadata": {},
     "output_type": "execute_result"
    }
   ],
   "source": [
    "len(df2['question'].unique())"
   ]
  },
  {
   "cell_type": "code",
   "execution_count": 10,
   "metadata": {},
   "outputs": [
    {
     "data": {
      "text/plain": [
       "['C',\n",
       " 'IAG',\n",
       " 'AG',\n",
       " 'IS',\n",
       " 'S',\n",
       " 'V',\n",
       " 'Z',\n",
       " 'NEG',\n",
       " '*',\n",
       " 'NUM',\n",
       " 'IM',\n",
       " 'M',\n",
       " 'D',\n",
       " 'PN',\n",
       " 'AJ',\n",
       " 'GR',\n",
       " 'N',\n",
       " 'Q',\n",
       " 'SH',\n",
       " 'ITOL',\n",
       " 'TOL',\n",
       " 'IWEG',\n",
       " 'WEG',\n",
       " 'RR',\n",
       " 'ID',\n",
       " 'AT',\n",
       " 'IAJ',\n",
       " 'DI',\n",
       " 'FT',\n",
       " 'CO',\n",
       " 'NP',\n",
       " 'T',\n",
       " 'QQ',\n",
       " 'X',\n",
       " 'G',\n",
       " 'ZM',\n",
       " 'F',\n",
       " nan,\n",
       " 'DO',\n",
       " ' V',\n",
       " 'A']"
      ]
     },
     "execution_count": 10,
     "metadata": {},
     "output_type": "execute_result"
    }
   ],
   "source": [
    "\n",
    "df2 = pd.read_excel (r'symptoms_formatted--4.xlsx')\n",
    "\n",
    "\n",
    "df2.POS.unique()"
   ]
  },
  {
   "cell_type": "code",
   "execution_count": 13,
   "metadata": {},
   "outputs": [
    {
     "data": {
      "text/plain": [
       "array(['C', 'IAG', 'AG', 'V', 'PN', 'IP', 'P', 'FT', 'N', 'AJ', 'S', 'Q',\n",
       "       'IWEG', 'IM', 'WEG', 'Z', 'NUM', 'DO', 'GR', 'SH', 'F', 'DI',\n",
       "       'DIS', 'AT', 'RR', 'IAJ', 'CH', 'EX', 'NEG', 'M', 'X', 'QQ', 'IS',\n",
       "       'D', 'T', 'G', '.', 'LEN', 'IV', 'TT', 'p'], dtype=object)"
      ]
     },
     "execution_count": 13,
     "metadata": {},
     "output_type": "execute_result"
    }
   ],
   "source": [
    "\n",
    "df3 = pd.read_excel (r'FOOD_formatted.xlsx')\n",
    "df3.POS.unique()"
   ]
  },
  {
   "cell_type": "code",
   "execution_count": 16,
   "metadata": {},
   "outputs": [],
   "source": [
    "ner=df.POS.unique().tolist()+df2.POS.unique().tolist()+df3.POS.unique().tolist()"
   ]
  },
  {
   "cell_type": "code",
   "execution_count": 21,
   "metadata": {},
   "outputs": [
    {
     "data": {
      "text/plain": [
       "113"
      ]
     },
     "execution_count": 21,
     "metadata": {},
     "output_type": "execute_result"
    }
   ],
   "source": [
    "len(ner)"
   ]
  },
  {
   "cell_type": "code",
   "execution_count": 23,
   "metadata": {},
   "outputs": [],
   "source": [
    "dd=pd.DataFrame(ner)"
   ]
  },
  {
   "cell_type": "code",
   "execution_count": 28,
   "metadata": {},
   "outputs": [
    {
     "data": {
      "text/plain": [
       "55"
      ]
     },
     "execution_count": 28,
     "metadata": {},
     "output_type": "execute_result"
    }
   ],
   "source": [
    "len(dd[0].unique())"
   ]
  },
  {
   "cell_type": "code",
   "execution_count": 29,
   "metadata": {},
   "outputs": [
    {
     "data": {
      "text/plain": [
       "array(['Q', 'IV', 'C', nan, 'VAC', 'V', 'M', 'IM', 'N', 'SH', 'IS', 'GR',\n",
       "       'D', 'ID', 'IAG', 'AG', 'S', 'Z', 'DI', 'PN', 'AJ', 'Q2', 'DO',\n",
       "       'JO', 'NEG', 'AT', 'G', 'CH', 'T', 'QQ', 'PN ', '*', 'NUM', 'ITOL',\n",
       "       'TOL', 'IWEG', 'WEG', 'RR', 'IAJ', 'FT', 'CO', 'NP', 'X', 'ZM',\n",
       "       'F', ' V', 'A', 'IP', 'P', 'DIS', 'EX', '.', 'LEN', 'TT', 'p'],\n",
       "      dtype=object)"
      ]
     },
     "execution_count": 29,
     "metadata": {},
     "output_type": "execute_result"
    }
   ],
   "source": [
    "dd[0].unique()"
   ]
  }
 ],
 "metadata": {
  "kernelspec": {
   "display_name": "Python 3",
   "language": "python",
   "name": "python3"
  },
  "language_info": {
   "codemirror_mode": {
    "name": "ipython",
    "version": 3
   },
   "file_extension": ".py",
   "mimetype": "text/x-python",
   "name": "python",
   "nbconvert_exporter": "python",
   "pygments_lexer": "ipython3",
   "version": "3.7.6"
  }
 },
 "nbformat": 4,
 "nbformat_minor": 4
}
