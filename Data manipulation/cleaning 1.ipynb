{
 "cells": [
  {
   "cell_type": "code",
   "execution_count": 1,
   "metadata": {},
   "outputs": [
    {
     "data": {
      "text/plain": [
       "(2298, 22)"
      ]
     },
     "execution_count": 1,
     "metadata": {},
     "output_type": "execute_result"
    }
   ],
   "source": [
    "import pandas as pd\n",
    "import numpy as np\n",
    "import matplotlib.pyplot as plt\n",
    "import re\n",
    "\n",
    "df = pd.read_excel (r'nocolours.xlsx')\n",
    "df.shape"
   ]
  },
  {
   "cell_type": "code",
   "execution_count": 2,
   "metadata": {},
   "outputs": [
    {
     "data": {
      "text/plain": [
       "Index(['question', 'country+gender', 'Country', 'new_id', 'intent',\n",
       "       'question summ', 'asking about', 'disease', 'age', 'kid gender',\n",
       "       'symptoms', 'drug name', 'drug kind', 'concentration',\n",
       "       'duration to expire', 'test kind', 'test result', 'food', 'time frame',\n",
       "       'vaccine name', 'do or not', 'precondition'],\n",
       "      dtype='object')"
      ]
     },
     "execution_count": 2,
     "metadata": {},
     "output_type": "execute_result"
    }
   ],
   "source": [
    "df.columns"
   ]
  },
  {
   "cell_type": "code",
   "execution_count": 3,
   "metadata": {},
   "outputs": [],
   "source": [
    "df.drop(['question summ','asking about', 'disease', 'age', 'kid gender',\n",
    "       'symptoms', 'drug name', 'drug kind', 'concentration',\n",
    "       'duration to expire', 'test kind', 'test result', 'food', 'time frame',\n",
    "       'vaccine name', 'do or not', 'precondition','country+gender', 'Country' ], axis=1, inplace=True)"
   ]
  },
  {
   "cell_type": "code",
   "execution_count": 4,
   "metadata": {},
   "outputs": [
    {
     "data": {
      "text/html": [
       "<div>\n",
       "<style scoped>\n",
       "    .dataframe tbody tr th:only-of-type {\n",
       "        vertical-align: middle;\n",
       "    }\n",
       "\n",
       "    .dataframe tbody tr th {\n",
       "        vertical-align: top;\n",
       "    }\n",
       "\n",
       "    .dataframe thead th {\n",
       "        text-align: right;\n",
       "    }\n",
       "</style>\n",
       "<table border=\"1\" class=\"dataframe\">\n",
       "  <thead>\n",
       "    <tr style=\"text-align: right;\">\n",
       "      <th></th>\n",
       "      <th>question</th>\n",
       "      <th>new_id</th>\n",
       "      <th>intent</th>\n",
       "    </tr>\n",
       "  </thead>\n",
       "  <tbody>\n",
       "    <tr>\n",
       "      <th>0</th>\n",
       "      <td>['\\nطفلتي لديها حساسيه في الصدر وعندما تاتيها ...</td>\n",
       "      <td>1465.0</td>\n",
       "      <td>drug+dose</td>\n",
       "    </tr>\n",
       "    <tr>\n",
       "      <th>1</th>\n",
       "      <td>['\\nابنى سنه 4 سنوات مرض بالجدرى منذ ايام اود ...</td>\n",
       "      <td>258.0</td>\n",
       "      <td>contageos</td>\n",
       "    </tr>\n",
       "    <tr>\n",
       "      <th>2</th>\n",
       "      <td>['\\nابني به مرض القدم اليد الفم اعطته الطبيبة ...</td>\n",
       "      <td>312.0</td>\n",
       "      <td>contagious</td>\n",
       "    </tr>\n",
       "    <tr>\n",
       "      <th>3</th>\n",
       "      <td>['\\nهل يمكن أن تنتقل عدوى السعال الديكي من الط...</td>\n",
       "      <td>2372.0</td>\n",
       "      <td>contagious</td>\n",
       "    </tr>\n",
       "    <tr>\n",
       "      <th>4</th>\n",
       "      <td>[\"\\nالسلام عليكم..\\nطفلي عمره سنة و شهرين يعان...</td>\n",
       "      <td>8.0</td>\n",
       "      <td>drug+dose</td>\n",
       "    </tr>\n",
       "  </tbody>\n",
       "</table>\n",
       "</div>"
      ],
      "text/plain": [
       "                                            question  new_id      intent\n",
       "0  ['\\nطفلتي لديها حساسيه في الصدر وعندما تاتيها ...  1465.0   drug+dose\n",
       "1  ['\\nابنى سنه 4 سنوات مرض بالجدرى منذ ايام اود ...   258.0   contageos\n",
       "2  ['\\nابني به مرض القدم اليد الفم اعطته الطبيبة ...   312.0  contagious\n",
       "3  ['\\nهل يمكن أن تنتقل عدوى السعال الديكي من الط...  2372.0  contagious\n",
       "4  [\"\\nالسلام عليكم..\\nطفلي عمره سنة و شهرين يعان...     8.0   drug+dose"
      ]
     },
     "execution_count": 4,
     "metadata": {},
     "output_type": "execute_result"
    }
   ],
   "source": [
    "df.head()"
   ]
  },
  {
   "cell_type": "code",
   "execution_count": 5,
   "metadata": {},
   "outputs": [
    {
     "name": "stdout",
     "output_type": "stream",
     "text": [
      "<class 'pandas.core.frame.DataFrame'>\n",
      "RangeIndex: 2298 entries, 0 to 2297\n",
      "Data columns (total 3 columns):\n",
      " #   Column    Non-Null Count  Dtype  \n",
      "---  ------    --------------  -----  \n",
      " 0   question  2298 non-null   object \n",
      " 1   new_id    2290 non-null   float64\n",
      " 2   intent    2285 non-null   object \n",
      "dtypes: float64(1), object(2)\n",
      "memory usage: 54.0+ KB\n"
     ]
    }
   ],
   "source": [
    "df.info()"
   ]
  },
  {
   "cell_type": "code",
   "execution_count": 6,
   "metadata": {},
   "outputs": [],
   "source": [
    "df.dropna(inplace=True)"
   ]
  },
  {
   "cell_type": "code",
   "execution_count": 7,
   "metadata": {},
   "outputs": [
    {
     "data": {
      "text/plain": [
       "\"['\\\\nrestropinal pediatric drops طفلتي تعاني من الحازوقة كثيرا مع حركة في اليد اليسرى والعين اليسرى ونحن نستعمل هذا الدواء هل له علاقة بذلك \\\\n']\""
      ]
     },
     "execution_count": 7,
     "metadata": {},
     "output_type": "execute_result"
    }
   ],
   "source": [
    "x=df['question'][17]\n",
    "type(x)\n",
    "x"
   ]
  },
  {
   "cell_type": "code",
   "execution_count": 8,
   "metadata": {},
   "outputs": [
    {
     "data": {
      "text/plain": [
       "\"['\\\\nrestropinal pediatric drops طفلتي تعاني من الحازوقة كثيرا مع حركة في اليد اليسرى والعين اليسرى ونحن نستعمل هذا الدواء هل له علاقة بذلك \\\\n']\""
      ]
     },
     "execution_count": 8,
     "metadata": {},
     "output_type": "execute_result"
    }
   ],
   "source": [
    "someText = x.replace('/(\\r\\n|\\n|\\r)/gm', \"\");\n",
    "someText"
   ]
  },
  {
   "cell_type": "raw",
   "metadata": {},
   "source": [
    "import re\n",
    "s = \"['\\\\nطفلتي لديها حساسيه في الصدر وعندما تاتيها الكحه تكون جافه جدا قال لي احد الاطباء بان هذه الكحه النباحيه فهل من علاج لها عمرها 10 اشهر؟ ولكم جزيل الشكر\\\\n']\"\n",
    "\n",
    "regex = re.compile(r'[\\n\\r\\t]')\n",
    "s = regex.sub(\" \", s)\n",
    "s\n"
   ]
  },
  {
   "cell_type": "raw",
   "metadata": {},
   "source": [
    "name = x.replace('/[!@#$%^&*]/g', \"\");\n",
    "name"
   ]
  },
  {
   "cell_type": "raw",
   "metadata": {},
   "source": [
    "import nltk\n",
    "from nltk.tokenize import word_tokenize\n",
    "doc_a = \"ذهب محمد الى المدرسه على دراجته. هذا اول يوم له في المدرسة\"\n",
    "tokens = nltk.word_tokenize(doc_a)\n",
    "print(tokens)"
   ]
  },
  {
   "cell_type": "code",
   "execution_count": 9,
   "metadata": {},
   "outputs": [
    {
     "data": {
      "text/plain": [
       "['[',\n",
       " \"'\\\\nrestropinal\",\n",
       " 'pediatric',\n",
       " 'drops',\n",
       " 'طفلتي',\n",
       " 'تعاني',\n",
       " 'من',\n",
       " 'الحازوقة',\n",
       " 'كثيرا',\n",
       " 'مع',\n",
       " 'حركة',\n",
       " 'في',\n",
       " 'اليد',\n",
       " 'اليسرى',\n",
       " 'والعين',\n",
       " 'اليسرى',\n",
       " 'ونحن',\n",
       " 'نستعمل',\n",
       " 'هذا',\n",
       " 'الدواء',\n",
       " 'هل',\n",
       " 'له',\n",
       " 'علاقة',\n",
       " 'بذلك',\n",
       " '\\\\n',\n",
       " \"'\",\n",
       " ']']"
      ]
     },
     "execution_count": 9,
     "metadata": {},
     "output_type": "execute_result"
    }
   ],
   "source": [
    "import nltk\n",
    "from nltk.tokenize import word_tokenize\n",
    "tokens = nltk.word_tokenize(x)\n",
    "tokens"
   ]
  },
  {
   "cell_type": "code",
   "execution_count": 10,
   "metadata": {},
   "outputs": [
    {
     "data": {
      "text/plain": [
       "' nrestropinal pediatric drops طفلتي تعاني من الحازوقة كثيرا مع حركة في اليد اليسرى والعين اليسرى ونحن نستعمل هذا الدواء هل له علاقة بذلك n '"
      ]
     },
     "execution_count": 10,
     "metadata": {},
     "output_type": "execute_result"
    }
   ],
   "source": [
    "y=re.sub(r'\\W+', ' ', x)\n",
    "y"
   ]
  },
  {
   "cell_type": "code",
   "execution_count": 11,
   "metadata": {},
   "outputs": [
    {
     "name": "stdout",
     "output_type": "stream",
     "text": [
      "restropinal pediatric drops طفلتي تعاني من الحازوقة كثيرا مع حركة في اليد اليسرى والعين اليسرى ونحن نستعمل هذا الدواء هل له علاقة بذلك\n"
     ]
    }
   ],
   "source": [
    "print(y.strip(\" n\"))"
   ]
  },
  {
   "cell_type": "code",
   "execution_count": 12,
   "metadata": {},
   "outputs": [
    {
     "data": {
      "text/plain": [
       "' nrestropinal pediatric drops طفلتي تعاني من الحازوقة كثيرا مع حركة في اليد اليسرى والعين اليسرى ونحن نستعمل هذا الدواء هل له علاقة بذلك n '"
      ]
     },
     "execution_count": 12,
     "metadata": {},
     "output_type": "execute_result"
    }
   ],
   "source": [
    "z=re.sub(r'^n$', ' ', y)\n",
    "z"
   ]
  },
  {
   "cell_type": "code",
   "execution_count": 14,
   "metadata": {},
   "outputs": [],
   "source": [
    "#z=re.sub('/^[.,?!'\"]+|[.,?!'\"]', ' ', y)\n",
    "#z\n",
    "\n"
   ]
  },
  {
   "cell_type": "code",
   "execution_count": 15,
   "metadata": {},
   "outputs": [
    {
     "data": {
      "text/plain": [
       "['nrestropinal',\n",
       " 'pediatric',\n",
       " 'drops',\n",
       " 'طفلتي',\n",
       " 'تعاني',\n",
       " 'من',\n",
       " 'الحازوقة',\n",
       " 'كثيرا',\n",
       " 'مع',\n",
       " 'حركة',\n",
       " 'في',\n",
       " 'اليد',\n",
       " 'اليسرى',\n",
       " 'والعين',\n",
       " 'اليسرى',\n",
       " 'ونحن',\n",
       " 'نستعمل',\n",
       " 'هذا',\n",
       " 'الدواء',\n",
       " 'هل',\n",
       " 'له',\n",
       " 'علاقة',\n",
       " 'بذلك',\n",
       " 'n']"
      ]
     },
     "execution_count": 15,
     "metadata": {},
     "output_type": "execute_result"
    }
   ],
   "source": [
    "tokens = nltk.word_tokenize(z)\n",
    "tokens"
   ]
  },
  {
   "cell_type": "code",
   "execution_count": null,
   "metadata": {},
   "outputs": [],
   "source": [
    "#df['question']=re.sub(r'n', ' ', df['question'])\n",
    "#df['question']\n",
    "\n",
    "\n",
    "# option 1 - faster way\n",
    "#df['team'] =  [re.sub(r'[\\n\\r]*','', str(x)) for x in df['team']]\n",
    "\n",
    "# option 2\n",
    "#df['team'] =  df['team'].apply(lambda x: re.sub(r'[\\n\\r]*','', str(x)))"
   ]
  },
  {
   "cell_type": "code",
   "execution_count": 16,
   "metadata": {},
   "outputs": [
    {
     "data": {
      "text/plain": [
       "'restropinal pediatric drops طفلتي تعاني من الحازوقة كثيرا مع حركة في اليد اليسرى والعين اليسرى ونحن نستعمل هذا الدواء هل له علاقة بذلك'"
      ]
     },
     "execution_count": 16,
     "metadata": {},
     "output_type": "execute_result"
    }
   ],
   "source": [
    "df['question'] =  df['question'].apply(lambda x: re.sub(r'\\W+', ' ', str(x)))\n",
    "#df['question'] =  df['question'].apply(lambda x: re.sub(r'n', ' ', str(x)))\n",
    "df['question'] =  df['question'].apply(lambda x: x.strip(' n'))\n",
    "\n",
    "\n",
    "#print(y.strip(\" n\"))\n",
    "df['question'][17]"
   ]
  },
  {
   "cell_type": "code",
   "execution_count": 17,
   "metadata": {
    "scrolled": true
   },
   "outputs": [
    {
     "data": {
      "text/html": [
       "<div>\n",
       "<style scoped>\n",
       "    .dataframe tbody tr th:only-of-type {\n",
       "        vertical-align: middle;\n",
       "    }\n",
       "\n",
       "    .dataframe tbody tr th {\n",
       "        vertical-align: top;\n",
       "    }\n",
       "\n",
       "    .dataframe thead th {\n",
       "        text-align: right;\n",
       "    }\n",
       "</style>\n",
       "<table border=\"1\" class=\"dataframe\">\n",
       "  <thead>\n",
       "    <tr style=\"text-align: right;\">\n",
       "      <th></th>\n",
       "      <th>question</th>\n",
       "      <th>new_id</th>\n",
       "      <th>intent</th>\n",
       "    </tr>\n",
       "  </thead>\n",
       "  <tbody>\n",
       "    <tr>\n",
       "      <th>0</th>\n",
       "      <td>طفلتي لديها حساسيه في الصدر وعندما تاتيها الكح...</td>\n",
       "      <td>1465.0</td>\n",
       "      <td>drug+dose</td>\n",
       "    </tr>\n",
       "    <tr>\n",
       "      <th>1</th>\n",
       "      <td>ابنى سنه 4 سنوات مرض بالجدرى منذ ايام اود ان ا...</td>\n",
       "      <td>258.0</td>\n",
       "      <td>contageos</td>\n",
       "    </tr>\n",
       "    <tr>\n",
       "      <th>2</th>\n",
       "      <td>ابني به مرض القدم اليد الفم اعطته الطبيبة فنجي...</td>\n",
       "      <td>312.0</td>\n",
       "      <td>contagious</td>\n",
       "    </tr>\n",
       "    <tr>\n",
       "      <th>3</th>\n",
       "      <td>هل يمكن أن تنتقل عدوى السعال الديكي من الطفل إ...</td>\n",
       "      <td>2372.0</td>\n",
       "      <td>contagious</td>\n",
       "    </tr>\n",
       "    <tr>\n",
       "      <th>4</th>\n",
       "      <td>السلام عليكم nطفلي عمره سنة و شهرين يعاني من ا...</td>\n",
       "      <td>8.0</td>\n",
       "      <td>drug+dose</td>\n",
       "    </tr>\n",
       "  </tbody>\n",
       "</table>\n",
       "</div>"
      ],
      "text/plain": [
       "                                            question  new_id      intent\n",
       "0  طفلتي لديها حساسيه في الصدر وعندما تاتيها الكح...  1465.0   drug+dose\n",
       "1  ابنى سنه 4 سنوات مرض بالجدرى منذ ايام اود ان ا...   258.0   contageos\n",
       "2  ابني به مرض القدم اليد الفم اعطته الطبيبة فنجي...   312.0  contagious\n",
       "3  هل يمكن أن تنتقل عدوى السعال الديكي من الطفل إ...  2372.0  contagious\n",
       "4  السلام عليكم nطفلي عمره سنة و شهرين يعاني من ا...     8.0   drug+dose"
      ]
     },
     "execution_count": 17,
     "metadata": {},
     "output_type": "execute_result"
    }
   ],
   "source": [
    "df.head()"
   ]
  },
  {
   "cell_type": "code",
   "execution_count": 18,
   "metadata": {},
   "outputs": [],
   "source": [
    "df.to_excel(r'D:\\File Name.xlsx', index = False)"
   ]
  }
 ],
 "metadata": {
  "kernelspec": {
   "display_name": "Python 3",
   "language": "python",
   "name": "python3"
  },
  "language_info": {
   "codemirror_mode": {
    "name": "ipython",
    "version": 3
   },
   "file_extension": ".py",
   "mimetype": "text/x-python",
   "name": "python",
   "nbconvert_exporter": "python",
   "pygments_lexer": "ipython3",
   "version": "3.7.6"
  }
 },
 "nbformat": 4,
 "nbformat_minor": 4
}
