{
  "nbformat": 4,
  "nbformat_minor": 0,
  "metadata": {
    "colab": {
      "name": "Copy of models.ipynb",
      "provenance": [],
      "collapsed_sections": [
        "wxFJNJm_d7wu",
        "OooVZB5dCFJr",
        "vuFOq1w9CFJy",
        "oGiPXxGxCFJ0",
        "-Tuxuo4gQrtA",
        "bQqSfrplCFJ2",
        "aNv9V41OCFJ3",
        "tqjPEfcZra_6",
        "oU7ryK1tCFJ5",
        "pJjqB4AgEp3H",
        "3_OTYRizGolV",
        "nwu75m0A2b5D",
        "jHIxZCQoNak1",
        "KFwoLSKSzpIZ",
        "HAIyza9WiHKi",
        "ZuvR0ehQOvl_"
      ]
    },
    "kernelspec": {
      "display_name": "Python 3",
      "language": "python",
      "name": "python3"
    },
    "language_info": {
      "codemirror_mode": {
        "name": "ipython",
        "version": 3
      },
      "file_extension": ".py",
      "mimetype": "text/x-python",
      "name": "python",
      "nbconvert_exporter": "python",
      "pygments_lexer": "ipython3",
      "version": "3.7.6"
    }
  },
  "cells": [
    {
      "cell_type": "markdown",
      "metadata": {
        "id": "wxFJNJm_d7wu"
      },
      "source": [
        "# initialization"
      ]
    },
    {
      "cell_type": "code",
      "metadata": {
        "id": "Ud_-XIhMCYrE"
      },
      "source": [
        "from google.colab import drive\n",
        "drive.mount('/content/gdrive')"
      ],
      "execution_count": null,
      "outputs": []
    },
    {
      "cell_type": "code",
      "metadata": {
        "id": "jut4XbZYDIIA"
      },
      "source": [
        "# Code to read csv file into colaboratory:\n",
        "!pip install -U -q PyDrive\n",
        "from pydrive.auth import GoogleAuth\n",
        "from pydrive.drive import GoogleDrive\n",
        "from google.colab import auth\n",
        "from oauth2client.client import GoogleCredentials"
      ],
      "execution_count": null,
      "outputs": []
    },
    {
      "cell_type": "code",
      "metadata": {
        "id": "-QcF5GxbDKKG"
      },
      "source": [
        "\n",
        "auth.authenticate_user()\n",
        "gauth = GoogleAuth()\n",
        "gauth.credentials = GoogleCredentials.get_application_default()\n",
        "drive = GoogleDrive(gauth)"
      ],
      "execution_count": null,
      "outputs": []
    },
    {
      "cell_type": "code",
      "metadata": {
        "id": "3Y8gWS4RC1sL"
      },
      "source": [
        "downloaded = drive.CreateFile({'id':'1vkXUOP4lGvCaARhFOirBgj1VwmkX0VI-'}) # replace the id with id of file you want to access\n",
        "downloaded.GetContentFile('cleaning_1.xlsx') "
      ],
      "execution_count": null,
      "outputs": []
    },
    {
      "cell_type": "code",
      "metadata": {
        "id": "m0XY_uO5C3dH"
      },
      "source": [
        "downloaded = drive.CreateFile({'id':'1uWVz1y4tu3UTi7UXAEM1D4cy2KJpdUw8'}) # replace the id with id of file you want to access\n",
        "downloaded.GetContentFile('stop_words.txt') "
      ],
      "execution_count": null,
      "outputs": []
    },
    {
      "cell_type": "markdown",
      "metadata": {
        "id": "IV4ZKxPhCFJl"
      },
      "source": [
        "# Preprocessing"
      ]
    },
    {
      "cell_type": "markdown",
      "metadata": {
        "id": "OooVZB5dCFJr"
      },
      "source": [
        "# Cleaning"
      ]
    },
    {
      "cell_type": "code",
      "metadata": {
        "id": "u5QCnUzoCFJs"
      },
      "source": [
        "import pandas as pd\n",
        "import numpy as np\n",
        "import matplotlib.pyplot as plt\n",
        "import re\n",
        "import nltk\n",
        "from sklearn.model_selection import train_test_split\n",
        "from sklearn.feature_extraction.text import CountVectorizer, TfidfVectorizer"
      ],
      "execution_count": null,
      "outputs": []
    },
    {
      "cell_type": "code",
      "metadata": {
        "id": "6tUiktPZCFJu"
      },
      "source": [
        "df = pd.read_excel (r'cleaning_1.xlsx')\n",
        "df.shape"
      ],
      "execution_count": null,
      "outputs": []
    },
    {
      "cell_type": "code",
      "metadata": {
        "id": "tWaXP4U5CFJw"
      },
      "source": [
        "df['intent'].replace(to_replace=[' drug+dose','drug+dose', 'drug+dpse'], value='drugs', inplace=True)\n",
        "df['intent'].replace(to_replace=['contageos', 'contagious'] ,value ='contageous', inplace=True)\n",
        "df['intent'].replace(to_replace=['info', 'Info'], value='information', inplace=True)"
      ],
      "execution_count": null,
      "outputs": []
    },
    {
      "cell_type": "code",
      "metadata": {
        "id": "DX97DUEcCFJw"
      },
      "source": [
        "indexNames=df[(df['intent'] =='drugs') \n",
        "              | (df['intent'] =='food+product') \n",
        "              | (df['intent']=='vaccine')\n",
        "              |(df['intent'] =='symptoms')].index.tolist()"
      ],
      "execution_count": null,
      "outputs": []
    },
    {
      "cell_type": "code",
      "metadata": {
        "id": "wJt0U-XUCFJx"
      },
      "source": [
        "df=df.iloc[indexNames,:]"
      ],
      "execution_count": null,
      "outputs": []
    },
    {
      "cell_type": "code",
      "metadata": {
        "id": "3Ql5LePGCFJx"
      },
      "source": [
        "df.intent.unique() , df.shape"
      ],
      "execution_count": null,
      "outputs": []
    },
    {
      "cell_type": "code",
      "metadata": {
        "id": "0r_2hp8n5-W8"
      },
      "source": [
        "df[df.intent=='food+product'].values"
      ],
      "execution_count": null,
      "outputs": []
    },
    {
      "cell_type": "markdown",
      "metadata": {
        "id": "vuFOq1w9CFJy"
      },
      "source": [
        "# clean data"
      ]
    },
    {
      "cell_type": "code",
      "metadata": {
        "id": "lbq9wGPQCFJy"
      },
      "source": [
        "# ==== Helper Methods =====\n",
        "import re\n",
        "import numpy as np\n",
        "from nltk import ngrams\n",
        "import matplotlib.pyplot as plt\n",
        "\n",
        "# Clean/Normalize Arabic Text\n",
        "def clean_str(text):\n",
        "    search = [\"أ\",\"إ\",\"آ\",\"ة\",\"_\",\"-\",\"/\",\".\",\"،\",\" و \",\" يا \",'\"',\"ـ\",\"'\",\"ى\",\"\\\\\",'\\n', '\\t','&quot;','?','؟','!']\n",
        "    replace = [\"ا\",\"ا\",\"ا\",\"ه\",\" \",\" \",\"\",\"\",\"\",\" و\",\" يا\",\"\",\"\",\"\",\"ي\",\"\",' ', ' ',' ',' ? ',' ؟ ',' ! ']\n",
        "    \n",
        "    #remove tashkeel\n",
        "    p_tashkeel = re.compile(r'[\\u0617-\\u061A\\u064B-\\u0652]')\n",
        "    text = re.sub(p_tashkeel,\"\", text)\n",
        "    \n",
        "    #remove longation\n",
        "    p_longation = re.compile(r'(.)\\1+')\n",
        "    subst = r\"\\1\\1\"\n",
        "    text = re.sub(p_longation, subst, text)\n",
        "    \n",
        "    text = text.replace('وو', 'و')\n",
        "    text = text.replace('يي', 'ي')\n",
        "    text = text.replace('اا', 'ا')\n",
        "    \n",
        "    for i in range(0, len(search)):\n",
        "        text = text.replace(search[i], replace[i])\n",
        "    \n",
        "    #trim    \n",
        "    text = text.strip()\n",
        "\n",
        "    return text"
      ],
      "execution_count": null,
      "outputs": []
    },
    {
      "cell_type": "code",
      "metadata": {
        "id": "wQpUVcdTCFJz"
      },
      "source": [
        "df['question'] =  df['question'].apply(lambda x: clean_str(x))"
      ],
      "execution_count": null,
      "outputs": []
    },
    {
      "cell_type": "markdown",
      "metadata": {
        "id": "oGiPXxGxCFJ0"
      },
      "source": [
        "# Stop Words"
      ]
    },
    {
      "cell_type": "code",
      "metadata": {
        "id": "XE6aeZTZDvZX"
      },
      "source": [
        "!pip install nltk\n",
        "import nltk\n",
        "nltk.download('stopwords')"
      ],
      "execution_count": null,
      "outputs": []
    },
    {
      "cell_type": "code",
      "metadata": {
        "id": "0LoivImgCFJ0"
      },
      "source": [
        "\n",
        "from nltk.corpus import stopwords\n",
        "stopwords_list = stopwords.words('arabic')\n",
        "#print(stopwords_list)\n",
        "#---------------------------------------------------------------------------\n",
        "egyp=[]\n",
        "# Using readlines()\n",
        "\n",
        "file1 = open(\"stop_words.txt\", \"r\" ,encoding = \"utf-8\")\n",
        "Lines = file1.readlines()\n",
        "count = 0\n",
        "# Strips the newline character\n",
        "for line in Lines:\n",
        "    count += 1\n",
        "    egyp.append(line.strip())\n",
        "    \n",
        "    #print( line.strip())\n",
        "#print(egyp)\n",
        "#----------------------------------------------------------------------------\n",
        "# combine two lists\n",
        "egyp=egyp+stopwords_list"
      ],
      "execution_count": null,
      "outputs": []
    },
    {
      "cell_type": "code",
      "metadata": {
        "id": "kA0qbPKdCFJ0"
      },
      "source": [
        "df['question']=df['question'].apply(lambda words: ' '.join(re.sub('^(ال)',\"\",word)\n",
        "                                                           for word in words.split() if ((word not in egyp))))\n"
      ],
      "execution_count": null,
      "outputs": []
    },
    {
      "cell_type": "code",
      "metadata": {
        "id": "1mRg9YRcCFJ1"
      },
      "source": [
        ""
      ],
      "execution_count": null,
      "outputs": []
    },
    {
      "cell_type": "markdown",
      "metadata": {
        "id": "-Tuxuo4gQrtA"
      },
      "source": [
        "# Over sampling"
      ]
    },
    {
      "cell_type": "code",
      "metadata": {
        "id": "YaaPH3hiQv2O"
      },
      "source": [
        "dr=df[df[\"intent\"]=='vaccine']\n"
      ],
      "execution_count": null,
      "outputs": []
    },
    {
      "cell_type": "code",
      "metadata": {
        "id": "g6fV12HuQwEh"
      },
      "source": [
        "df_repeated = pd.concat([df[df[\"intent\"]=='vaccine']]*3, ignore_index=True)  # vaccine 59*4=236\n",
        "frames = [df_repeated, df]\n",
        "result = pd.concat(frames)"
      ],
      "execution_count": null,
      "outputs": []
    },
    {
      "cell_type": "code",
      "metadata": {
        "id": "rHAss5GOSqJz"
      },
      "source": [
        "X = result['question']\n",
        "y = result['intent']\n",
        "X_train, X_test, y_train, y_test = train_test_split(X, y, test_size=0.3, random_state = 42,stratify=y)"
      ],
      "execution_count": null,
      "outputs": []
    },
    {
      "cell_type": "markdown",
      "metadata": {
        "id": "bQqSfrplCFJ2"
      },
      "source": [
        "# Naive Bayes classifier for multinomial models"
      ]
    },
    {
      "cell_type": "code",
      "metadata": {
        "colab": {
          "background_save": true
        },
        "id": "GTCZ2rKPCFJ2"
      },
      "source": [
        "from sklearn.naive_bayes import MultinomialNB\n",
        "from sklearn.pipeline import Pipeline\n",
        "from sklearn.feature_extraction.text import TfidfTransformer\n",
        "\n",
        "\n",
        "#{'clf__alpha': 0.1,\n",
        " #'tfidf__norm': 'l2',\n",
        " #'tfidf__use_idf': False,\n",
        " #'vect__ngram_range': (1, 1)}\n",
        "\n",
        "\n",
        "X = df['question']\n",
        "y = df['intent']\n",
        "X_train, X_test, y_train, y_test = train_test_split(X, y, test_size=0.3, random_state = 42,stratify=y)\n",
        "\n",
        "nb = Pipeline([('vect', CountVectorizer(max_features=24 )),\n",
        "               ('tfidf', TfidfTransformer()),\n",
        "               ('clf', MultinomialNB(alpha=0.1)),\n",
        "              ])\n",
        "nb.fit(X_train, y_train);"
      ],
      "execution_count": null,
      "outputs": []
    },
    {
      "cell_type": "code",
      "metadata": {
        "colab": {
          "background_save": true
        },
        "id": "wahM-WT5CFJ3"
      },
      "source": [
        "%%time\n",
        "from sklearn.metrics import classification_report\n",
        "from sklearn.metrics import accuracy_score, confusion_matrix\n",
        "\n",
        "y_pred = nb.predict(X_test)\n",
        "\n",
        "print('accuracy %s' % accuracy_score(y_pred, y_test))\n",
        "print(classification_report(y_test, y_pred))"
      ],
      "execution_count": null,
      "outputs": []
    },
    {
      "cell_type": "markdown",
      "metadata": {
        "id": "aNv9V41OCFJ3"
      },
      "source": [
        "# Linear support vector machine"
      ]
    },
    {
      "cell_type": "code",
      "metadata": {
        "colab": {
          "background_save": true
        },
        "id": "xulGe4MuCFJ4"
      },
      "source": [
        "from sklearn.linear_model import SGDClassifier\n",
        "\n",
        "\n",
        "X = df['question']\n",
        "y = df['intent']\n",
        "X_train, X_test, y_train, y_test = train_test_split(X, y, test_size=0.3, random_state = 42,stratify=y)\n",
        "\n",
        "\n",
        "sgd = Pipeline([('vect', CountVectorizer(max_features=24)),\n",
        "                ('tfidf', TfidfTransformer()),\n",
        "                ('clf', SGDClassifier( n_jobs=-1,loss='hinge', penalty='l1',alpha=0.01, random_state=42, max_iter=20, tol=None)),\n",
        "               ])\n",
        "sgd.fit(X_train, y_train);"
      ],
      "execution_count": null,
      "outputs": []
    },
    {
      "cell_type": "code",
      "metadata": {
        "colab": {
          "background_save": true
        },
        "id": "UeAvoEEXCFJ4"
      },
      "source": [
        "%%time\n",
        "\n",
        "y_pred = sgd.predict(X_test)\n",
        "\n",
        "print('accuracy %s' % accuracy_score(y_pred, y_test))\n",
        "print(classification_report(y_test, y_pred))"
      ],
      "execution_count": null,
      "outputs": []
    },
    {
      "cell_type": "markdown",
      "metadata": {
        "id": "tqjPEfcZra_6"
      },
      "source": [
        "# sgd gridsearch"
      ]
    },
    {
      "cell_type": "code",
      "metadata": {
        "colab": {
          "background_save": true
        },
        "id": "s8Ji862vsnWN"
      },
      "source": [
        "pip install parfit"
      ],
      "execution_count": null,
      "outputs": []
    },
    {
      "cell_type": "code",
      "metadata": {
        "colab": {
          "background_save": true
        },
        "id": "nWdXrSJYreri"
      },
      "source": [
        "# from sklearn.model_selection import ParameterGrid\n",
        "# from sklearn.linear_model import SGDClassifier\n",
        "# from sklearn.metrics import roc_auc_score\n",
        "# import parfit.parfit as pf\n",
        "\n",
        "# grid = {\n",
        "#     'alpha': [1e-4, 1e-3, 1e-2, 1e-1, 1e0, 1e1, 1e2, 1e3], # learning rate\n",
        "#     'n_iter': [1000], # number of epochs\n",
        "#     'loss': ['log'], # logistic regression,\n",
        "#     'penalty': ['l2'],\n",
        "#     'n_jobs': [-1]\n",
        "# }\n",
        "# paramGrid = ParameterGrid(grid)\n",
        "\n",
        "# bestModel, bestScore, allModels, allScores = \n",
        "# pf.bestFit(SGDClassifier, paramGrid,\n",
        "#            X_train, y_train, X_val, y_val, \n",
        "#            metric = roc_auc_score, bestScore='max',\n",
        "#            scoreLabel = \"AUC\")\n",
        "\n",
        "# print(bestModel, bestScore)"
      ],
      "execution_count": null,
      "outputs": []
    },
    {
      "cell_type": "code",
      "metadata": {
        "colab": {
          "background_save": true
        },
        "id": "SaCuVipfrzsN"
      },
      "source": [
        "from sklearn.model_selection import GridSearchCV\n",
        "X = df['question']\n",
        "y = df['intent']\n",
        "X_train, X_test, y_train, y_test = train_test_split(X, y, test_size=0.3, random_state = 42,stratify=y)"
      ],
      "execution_count": null,
      "outputs": []
    },
    {
      "cell_type": "code",
      "metadata": {
        "colab": {
          "background_save": true
        },
        "id": "YRbEAzuVrzzO"
      },
      "source": [
        "\n",
        "\n",
        "\n",
        "parameters={\n",
        "    'clf__alpha': [1e-4, 1e-3, 1e-2, 1e-1, 1e0, 1e1, 1e2, 1e3], # learning rate\n",
        "     #'clf__n_iter': [1000], # number of epochs\n",
        "     'clf__loss': ['log','hinge'], # logistic regression,\n",
        "     'clf__penalty': ['l2','l1'],\n",
        "     'clf__n_jobs': [-1,1]\n",
        " }\n",
        "sgd = Pipeline([('vect', CountVectorizer(max_features=24)),\n",
        "                ('tfidf', TfidfTransformer()),\n",
        "                ('clf', SGDClassifier( random_state=42, max_iter=5, tol=None)),\n",
        "               ])\n",
        " \n"
      ],
      "execution_count": null,
      "outputs": []
    },
    {
      "cell_type": "code",
      "metadata": {
        "colab": {
          "background_save": true
        },
        "id": "aciLP1ppr5XR"
      },
      "source": [
        "grid_pipeline = GridSearchCV(sgd,parameters , cv=5)\n",
        "# fit\n",
        "grid_pipeline.fit(X_train,y_train)\n",
        "grid_pipeline.best_params_"
      ],
      "execution_count": null,
      "outputs": []
    },
    {
      "cell_type": "code",
      "metadata": {
        "colab": {
          "background_save": true
        },
        "id": "eMR04PT-r9f3"
      },
      "source": [
        "df2=pd.DataFrame(grid_pipeline.cv_results_)"
      ],
      "execution_count": null,
      "outputs": []
    },
    {
      "cell_type": "markdown",
      "metadata": {
        "id": "oU7ryK1tCFJ5"
      },
      "source": [
        "# Logistic regression"
      ]
    },
    {
      "cell_type": "code",
      "metadata": {
        "id": "F2BRL_JTfstA"
      },
      "source": [
        "X = df['question']\n",
        "y = df['intent']\n",
        "X_train, X_test, y_train, y_test = train_test_split(X, y, test_size=0.3, random_state = 42,stratify=y)"
      ],
      "execution_count": null,
      "outputs": []
    },
    {
      "cell_type": "code",
      "metadata": {
        "id": "gQRxCiHCCFJ5"
      },
      "source": [
        "from sklearn.linear_model import LogisticRegression\n",
        "from sklearn.multiclass import OneVsRestClassifier\n",
        "piplrtf = Pipeline([('vect', CountVectorizer(max_features=380)),\n",
        "                ('tfidf', TfidfTransformer()),\n",
        "                ('clf', LogisticRegression(n_jobs=1, C=0.3,penalty='l1',solver='liblinear',multi_class='ovr')),\n",
        "                \n",
        "               ])\n",
        "               \n",
        "piplrtf.fit(X_train, y_train);"
      ],
      "execution_count": null,
      "outputs": []
    },
    {
      "cell_type": "code",
      "metadata": {
        "id": "7_YaqDWBCFJ5"
      },
      "source": [
        "\n",
        "%%time\n",
        "\n",
        "y_pred = piplrtf.predict(X_test)\n",
        "\n",
        "\n",
        "\n",
        "#print('accuracy %s' % accuracy_score(y_pred, y_test))\n",
        "\n",
        "print(\"normal data LR + countervectorizer c=0.3 , penality = l1 solver=liblinear \\n\")\n",
        "print(classification_report(y_test, y_pred))\n",
        "\n"
      ],
      "execution_count": null,
      "outputs": []
    },
    {
      "cell_type": "code",
      "metadata": {
        "colab": {
          "base_uri": "https://localhost:8080/"
        },
        "id": "ZO444bC_OzG3",
        "outputId": "e1379514-582a-4519-9bcf-7e5d87a5dce2"
      },
      "source": [
        "pickle.dump(piplrtf, open('tfidfبب_reg.pkl', 'wb'))\n",
        " \n",
        "# some time later...\n",
        " \n",
        "# load the model from disk\n",
        "tfidf_lr = pickle.load(open('tfidfبب_reg.pkl', 'rb'))\n",
        "q=pd.Series(' ابني اعبان بقاله فتره و عنده كحه و عطس المفروض اديله ايه')\n",
        "tfidf_lr.predict_proba(q)\n",
        "\n",
        "#tfidf_lr.predict(q)\n"
      ],
      "execution_count": null,
      "outputs": [
        {
          "output_type": "execute_result",
          "data": {
            "text/plain": [
              "array([[0.31503697, 0.0909701 , 0.57542793, 0.018565  ]])"
            ]
          },
          "metadata": {
            "tags": []
          },
          "execution_count": 358
        }
      ]
    },
    {
      "cell_type": "code",
      "metadata": {
        "colab": {
          "base_uri": "https://localhost:8080/"
        },
        "id": "edXbOK0dG2u0",
        "outputId": "f317d9ae-a0e2-459b-db3f-712d1928852e"
      },
      "source": [
        "tfidf_lr.predict(q)"
      ],
      "execution_count": null,
      "outputs": [
        {
          "output_type": "execute_result",
          "data": {
            "text/plain": [
              "array(['symptoms'], dtype=object)"
            ]
          },
          "metadata": {
            "tags": []
          },
          "execution_count": 355
        }
      ]
    },
    {
      "cell_type": "code",
      "metadata": {
        "id": "2SMu4KGUG2y6"
      },
      "source": [
        "from sklearn.multiclass import OneVsRestClassifier\n",
        "# define dataset\n",
        "X, y = make_classification(n_samples=1000, n_features=10, n_informative=5, n_redundant=5, n_classes=3, random_state=1)\n",
        "# define model\n",
        "model = LogisticRegression()\n",
        "# define the ovr strategy\n",
        "ovr = OneVsRestClassifier(model)\n",
        "# fit model\n",
        "ovr.fit(X, y)"
      ],
      "execution_count": null,
      "outputs": []
    },
    {
      "cell_type": "code",
      "metadata": {
        "id": "vSiEA1jfG23R"
      },
      "source": [
        ""
      ],
      "execution_count": null,
      "outputs": []
    },
    {
      "cell_type": "markdown",
      "metadata": {
        "id": "pJjqB4AgEp3H"
      },
      "source": [
        "# learning curve"
      ]
    },
    {
      "cell_type": "code",
      "metadata": {
        "id": "Dg5QkKKLCbzA"
      },
      "source": [
        "import numpy as np\n",
        "import matplotlib.pyplot as plt\n",
        "from sklearn.ensemble import RandomForestClassifier\n",
        "from sklearn import datasets\n",
        "from sklearn.model_selection import learning_curve\n",
        "\n",
        "\n",
        "X, y = df['question'], df['intent']\n",
        "\n",
        "MOD=Pipeline([('vect', CountVectorizer(max_features=24)),\n",
        "                ('tfidf', TfidfTransformer()),\n",
        "                ('clf', LogisticRegression(n_jobs=1, C=0.3,solver='liblinear',penalty='l1')),\n",
        "               ])\n",
        "\n",
        "train_sizes, train_scores, test_scores = learning_curve(MOD, X, y, cv=10, scoring='accuracy', n_jobs=1, train_sizes=np.linspace(0.01, 1.0, 50))\n",
        "\n",
        "train_mean = np.mean(train_scores, axis=1)\n",
        "train_std = np.std(train_scores, axis=1)\n",
        "\n",
        "test_mean = np.mean(test_scores, axis=1)\n",
        "test_std = np.std(test_scores, axis=1)\n",
        "\n",
        "plt.subplots(1, figsize=(10,10))\n",
        "plt.plot(train_sizes, train_mean, '--', color=\"#111111\",  label=\"Training score\")\n",
        "plt.plot(train_sizes, test_mean, color=\"#111111\", label=\"Cross-validation score\")\n",
        "\n",
        "plt.fill_between(train_sizes, train_mean - train_std, train_mean + train_std, color=\"#DDDDDD\")\n",
        "plt.fill_between(train_sizes, test_mean - test_std, test_mean + test_std, color=\"#DDDDDD\")\n",
        "\n",
        "plt.title(\"Learning Curve\")\n",
        "plt.xlabel(\"Training Set Size\"), plt.ylabel(\"Accuracy Score\"), plt.legend(loc=\"best\")\n",
        "plt.tight_layout()\n",
        "plt.show()\n"
      ],
      "execution_count": null,
      "outputs": []
    },
    {
      "cell_type": "code",
      "metadata": {
        "id": "_D0_ZvUYCb6B"
      },
      "source": [
        ""
      ],
      "execution_count": null,
      "outputs": []
    },
    {
      "cell_type": "code",
      "metadata": {
        "id": "rS1nP2qbCb9z"
      },
      "source": [
        ""
      ],
      "execution_count": null,
      "outputs": []
    },
    {
      "cell_type": "markdown",
      "metadata": {
        "id": "9QJP4yO-CFJ6"
      },
      "source": [
        "# ----------------------------------------------------------------------------------------"
      ]
    },
    {
      "cell_type": "markdown",
      "metadata": {
        "id": "3_OTYRizGolV"
      },
      "source": [
        "# Doc2vec and Logistic Regression"
      ]
    },
    {
      "cell_type": "code",
      "metadata": {
        "colab": {
          "background_save": true
        },
        "id": "TGDUQrthCFJ6",
        "outputId": "f4afc6b7-6bbc-4fe6-e414-0ddac055d22d"
      },
      "source": [
        "from tqdm import tqdm\n",
        "tqdm.pandas(desc=\"progress-bar\")\n",
        "from gensim.models import Doc2Vec\n",
        "from sklearn import utils\n",
        "import gensim\n",
        "from gensim.models.doc2vec import TaggedDocument\n",
        "import re\n",
        "\n",
        "\n"
      ],
      "execution_count": null,
      "outputs": [
        {
          "output_type": "stream",
          "text": [
            "/usr/local/lib/python3.7/dist-packages/tqdm/std.py:658: FutureWarning: The Panel class is removed from pandas. Accessing it from the top-level namespace will also be removed in the next version\n",
            "  from pandas import Panel\n"
          ],
          "name": "stderr"
        }
      ]
    },
    {
      "cell_type": "code",
      "metadata": {
        "colab": {
          "background_save": true
        },
        "id": "35JGAsxpCFJ7"
      },
      "source": [
        "def label_sentences(corpus, label_type):\n",
        "    \"\"\"\n",
        "    Gensim's Doc2Vec implementation requires each document/paragraph to have a label associated with it.\n",
        "    We do this by using the TaggedDocument method. The format will be \"TRAIN_i\" or \"TEST_i\" where \"i\" is\n",
        "    a dummy index of the post.\n",
        "    \"\"\"\n",
        "    labeled = []\n",
        "    for i, v in enumerate(corpus):\n",
        "        label = label_type + '_' + str(i)\n",
        "        labeled.append(TaggedDocument(v.split(), [label]))\n",
        "    return labeled"
      ],
      "execution_count": null,
      "outputs": []
    },
    {
      "cell_type": "code",
      "metadata": {
        "colab": {
          "background_save": true
        },
        "id": "TRzYPfr1CFJ7"
      },
      "source": [
        "X = df['question']\n",
        "y = df['intent']\n",
        "X_train, X_test, y_train, y_test = train_test_split(X, y, test_size=0.3, random_state = 42,stratify=y)\n",
        "\n",
        "#X_train, X_test, y_train, y_test = train_test_split(df.question, df.intent, random_state=0, test_size=0.3, stratify=y)\n",
        "\n",
        "#X_train, X_test, y_train, y_test = train_test_split(df.question, df.intent, random_state=0, test_size=0.3, stratify=y)\n",
        "\n",
        "X_train = label_sentences(X_train, 'Train')\n",
        "X_test = label_sentences(X_test, 'Test')\n",
        "all_data = X_train + X_test"
      ],
      "execution_count": null,
      "outputs": []
    },
    {
      "cell_type": "code",
      "metadata": {
        "id": "VQgD759ZE6ss"
      },
      "source": [
        "model_dbow = Doc2Vec(dm=0, vector_size=100, negative=5, min_count=1, alpha=0.065, min_alpha=0.065)\n",
        "model_dbow.build_vocab([x for x in tqdm(all_data)])"
      ],
      "execution_count": null,
      "outputs": []
    },
    {
      "cell_type": "code",
      "metadata": {
        "id": "A7thRoAKE6wj"
      },
      "source": [
        "\n",
        "for epoch in range(30):\n",
        "    model_dbow.train(utils.shuffle([x for x in tqdm(all_data)]), total_examples=len(all_data), epochs=1)\n",
        "    model_dbow.alpha -= 0.002\n",
        "    model_dbow.min_alpha = model_dbow.alpha"
      ],
      "execution_count": null,
      "outputs": []
    },
    {
      "cell_type": "code",
      "metadata": {
        "id": "E9-QMQYLE60I"
      },
      "source": [
        "def get_vectors(model, corpus_size, vectors_size, vectors_type):\n",
        "    \"\"\"\n",
        "    Get vectors from trained doc2vec model\n",
        "    :param doc2vec_model: Trained Doc2Vec model\n",
        "    :param corpus_size: Size of the data\n",
        "    :param vectors_size: Size of the embedding vectors\n",
        "    :param vectors_type: Training or Testing vectors\n",
        "    :return: list of vectors\n",
        "    \"\"\"\n",
        "    vectors = np.zeros((corpus_size, vectors_size))\n",
        "    for i in range(0, corpus_size):\n",
        "        prefix = vectors_type + '_' + str(i)\n",
        "        vectors[i] = model.docvecs[prefix]\n",
        "    return vectors"
      ],
      "execution_count": null,
      "outputs": []
    },
    {
      "cell_type": "code",
      "metadata": {
        "id": "aJT1naMZE63B"
      },
      "source": [
        "train_vectors_dbow = get_vectors(model_dbow, len(X_train), 100, 'Train')\n",
        "test_vectors_dbow = get_vectors(model_dbow, len(X_test), 100, 'Test')"
      ],
      "execution_count": null,
      "outputs": []
    },
    {
      "cell_type": "code",
      "metadata": {
        "id": "hWIPnZsME66I"
      },
      "source": [
        "logreg = LogisticRegression(n_jobs=1, C=1)\n",
        "logreg.fit(train_vectors_dbow, y_train)"
      ],
      "execution_count": null,
      "outputs": []
    },
    {
      "cell_type": "code",
      "metadata": {
        "id": "-pUbUmFIE69V"
      },
      "source": [
        "logreg = logreg.fit(train_vectors_dbow, y_train)\n",
        "y_pred = logreg.predict(test_vectors_dbow)"
      ],
      "execution_count": null,
      "outputs": []
    },
    {
      "cell_type": "code",
      "metadata": {
        "id": "UAmX92JmE6_3"
      },
      "source": [
        "from sklearn.metrics import classification_report\n",
        "from sklearn.metrics import accuracy_score, confusion_matrix\n",
        "print('accuracy %s' % accuracy_score(y_pred, y_test))\n",
        "print(classification_report(y_test, y_pred))"
      ],
      "execution_count": null,
      "outputs": []
    },
    {
      "cell_type": "code",
      "metadata": {
        "id": "8RwZNOGd0gIj"
      },
      "source": [
        ""
      ],
      "execution_count": null,
      "outputs": []
    },
    {
      "cell_type": "markdown",
      "metadata": {
        "id": "nwu75m0A2b5D"
      },
      "source": [
        "# saving and calling"
      ]
    },
    {
      "cell_type": "code",
      "metadata": {
        "id": "Kii7_LuF0gQH"
      },
      "source": [
        "import pickle\n",
        "\n",
        "\n",
        "pickle.dump(model_dbow, open('doc2vec', 'wb'))\n",
        " \n",
        "# some time later...\n",
        " \n",
        "# load the model from disk\n",
        "doc2vecmodel = pickle.load(open('doc2vec', 'rb'))\n",
        "#result = loaded_model.score(X_test, Y_test)\n",
        "#print(result)"
      ],
      "execution_count": null,
      "outputs": []
    },
    {
      "cell_type": "code",
      "metadata": {
        "id": "_NvrUw310gU1"
      },
      "source": [
        "pickle.dump(logreg, open('LR_doc2vec', 'wb'))\n",
        " \n",
        "# some time later...\n",
        " \n",
        "# load the model from disk\n",
        "lrmodel = pickle.load(open('LR_doc2vec', 'rb'))"
      ],
      "execution_count": null,
      "outputs": []
    },
    {
      "cell_type": "code",
      "metadata": {
        "colab": {
          "base_uri": "https://localhost:8080/"
        },
        "id": "hzZS2qO52gM5",
        "outputId": "49f0ccba-8f85-4924-8b82-ef5aaca2b877"
      },
      "source": [
        "\n",
        "q=pd.Series('تطعيم')\n",
        "X_test= label_sentences(q, 'Test')\n",
        "all_data=X_test\n",
        "\n",
        "test_vectors_dbow = get_vectors(doc2vecmodel, len(X_test), 100, 'Test')\n",
        "y_pred = lrmodel.predict(test_vectors_dbow)\n",
        "\n",
        "y_pred   "
      ],
      "execution_count": null,
      "outputs": [
        {
          "output_type": "execute_result",
          "data": {
            "text/plain": [
              "array(['symptoms'], dtype=object)"
            ]
          },
          "metadata": {
            "tags": []
          },
          "execution_count": 269
        }
      ]
    },
    {
      "cell_type": "code",
      "metadata": {
        "colab": {
          "base_uri": "https://localhost:8080/"
        },
        "id": "_aO03f0K3ure",
        "outputId": "3e5f18fa-0453-4157-df28-27dcd2a1fec2"
      },
      "source": [
        ""
      ],
      "execution_count": null,
      "outputs": [
        {
          "output_type": "execute_result",
          "data": {
            "text/plain": [
              "array(['symptoms'], dtype=object)"
            ]
          },
          "metadata": {
            "tags": []
          },
          "execution_count": 225
        }
      ]
    },
    {
      "cell_type": "markdown",
      "metadata": {
        "id": "jHIxZCQoNak1"
      },
      "source": [
        "# regulization"
      ]
    },
    {
      "cell_type": "code",
      "metadata": {
        "id": "Ga3R9YRgJN0D"
      },
      "source": [
        "from sklearn.linear_model import LogisticRegression\n",
        "from sklearn.metrics import accuracy_score\n",
        "#from sklearn.learning_curve import validation_curve\n",
        "from sklearn.model_selection import learning_curve, GridSearchCV\n",
        "\n",
        "\n",
        "from sklearn.naive_bayes import MultinomialNB\n",
        "from sklearn.pipeline import Pipeline\n",
        "from sklearn.feature_extraction.text import TfidfTransformer\n",
        "\n",
        "#X = df['question']\n",
        "#y = df['intent']\n",
        "#X_train, X_test, y_train, y_test = train_test_split(X, y, test_size=0.3, random_state = 42,stratify=y)\n",
        "\n",
        "\n",
        "\n",
        "#C_param_range = [0.001,0.01,0.1,1,10,100]\n",
        "\n",
        "C_param_range = [0.001,0.01,0.1,1,10,100,0.01,0.03,0.3,3,30]\n",
        "\n",
        "\n",
        "sepal_acc_table = pd.DataFrame(columns = ['C_parameter','Accuracy'])\n",
        "sepal_acc_table['C_parameter'] = C_param_range\n",
        "\n",
        "plt.figure(figsize=(10, 10))\n",
        "\n",
        "j = 0\n",
        "for i in C_param_range:\n",
        "    \n",
        "    # Apply logistic regression model to training data\n",
        "    lr = LogisticRegression(n_jobs=1, C=i)\n",
        "\n",
        "    #lr.fit(X_train_sepal_std,y_train_sepal)\n",
        "    lr.fit(train_vectors_dbow, y_train);\n",
        "    # Predict using model\n",
        "    y_pred = lr.predict(test_vectors_dbow)\n",
        "\n",
        "\n",
        "    from sklearn.metrics import classification_report\n",
        "    from sklearn.metrics import accuracy_score, confusion_matrix\n",
        "    print('accuracy %s' % accuracy_score(y_pred, y_test))\n",
        "    print(classification_report(y_test, y_pred))\n",
        "\n",
        "\n",
        "\n",
        "\n",
        "\n",
        "\n",
        "    # Saving accuracy score in table\n",
        "    sepal_acc_table.iloc[j,1] = accuracy_score(y_pred, y_test)\n",
        "    j += 1\n",
        "    \n",
        "sepal_acc_table"
      ],
      "execution_count": null,
      "outputs": []
    },
    {
      "cell_type": "markdown",
      "metadata": {
        "id": "KFwoLSKSzpIZ"
      },
      "source": [
        "# REGULI"
      ]
    },
    {
      "cell_type": "code",
      "metadata": {
        "id": "1H9aYOLK1Nvz"
      },
      "source": [
        "from sklearn.linear_model import LogisticRegression\n",
        "from sklearn.metrics import accuracy_score\n",
        "#from sklearn.learning_curve import validation_curve\n",
        "from sklearn.model_selection import learning_curve, GridSearchCV\n",
        "\n",
        "\n",
        "from sklearn.naive_bayes import MultinomialNB\n",
        "from sklearn.pipeline import Pipeline\n",
        "from sklearn.feature_extraction.text import TfidfTransformer\n",
        "\n",
        "X = df['question']\n",
        "y = df['intent']\n",
        "X_train, X_test, y_train, y_test = train_test_split(X, y, test_size=0.3, random_state = 42,stratify=y)\n",
        "\n",
        "\n",
        "\n",
        "#C_param_range = [0.001,0.01,0.1,1,10,100]\n",
        "\n",
        "#C_param_range = [0.001,0.01,0.1,1,10,100,0.01,0.03,0.3,3,30]\n",
        "\n",
        "C_param_range =[0.01,0.03,0.1,0.3,1,3,10,30,100]\n",
        "\n",
        "sepal_acc_table = pd.DataFrame(columns = ['C_parameter','Accuracy'])\n",
        "sepal_acc_table['C_parameter'] = C_param_range\n",
        "\n",
        "plt.figure(figsize=(10, 10))\n",
        "\n",
        "j = 0\n",
        "for i in C_param_range:\n",
        "    \n",
        "    # Apply logistic regression model to training data\n",
        "    lr = Pipeline([('vect', CountVectorizer(max_features=24)),\n",
        "                ('tfidf', TfidfTransformer()),\n",
        "                ('clf', LogisticRegression(n_jobs=1, C=i ,penalty='l1',solver='liblinear')),\n",
        "               ])\n",
        "    #lr.fit(X_train_sepal_std,y_train_sepal)\n",
        "    lr.fit(X_train, y_train);\n",
        "    # Predict using model\n",
        "    y_pred = lr.predict(X_test)\n",
        "\n",
        "    from sklearn.metrics import classification_report\n",
        "    from sklearn.metrics import accuracy_score, confusion_matrix\n",
        "    print('accuracy %s' % accuracy_score(y_pred, y_test))\n",
        "    print(classification_report(y_test, y_pred))\n",
        "\n",
        "\n",
        "\n",
        "\n",
        "\n",
        "    # Saving accuracy score in table\n",
        "    sepal_acc_table.iloc[j,1] = accuracy_score(y_test,y_pred)\n",
        "    j += 1\n",
        "    \n",
        "sepal_acc_table"
      ],
      "execution_count": null,
      "outputs": []
    },
    {
      "cell_type": "code",
      "metadata": {
        "id": "UloXvfsPzt-k"
      },
      "source": [
        ""
      ],
      "execution_count": null,
      "outputs": []
    },
    {
      "cell_type": "code",
      "metadata": {
        "id": "dETl0dfZzuFL"
      },
      "source": [
        ""
      ],
      "execution_count": null,
      "outputs": []
    },
    {
      "cell_type": "code",
      "metadata": {
        "id": "RORLaZ1L4tUL"
      },
      "source": [
        ""
      ],
      "execution_count": null,
      "outputs": []
    },
    {
      "cell_type": "code",
      "metadata": {
        "id": "ywpy9bKI4tbo"
      },
      "source": [
        ""
      ],
      "execution_count": null,
      "outputs": []
    },
    {
      "cell_type": "code",
      "metadata": {
        "id": "jQah-Xjt4tje"
      },
      "source": [
        ""
      ],
      "execution_count": null,
      "outputs": []
    },
    {
      "cell_type": "code",
      "metadata": {
        "id": "jAz58ZOI4trO"
      },
      "source": [
        ""
      ],
      "execution_count": null,
      "outputs": []
    },
    {
      "cell_type": "code",
      "metadata": {
        "id": "89rZ9O6viGtm"
      },
      "source": [
        ""
      ],
      "execution_count": null,
      "outputs": []
    },
    {
      "cell_type": "markdown",
      "metadata": {
        "id": "HAIyza9WiHKi"
      },
      "source": [
        "# pipline grid search"
      ]
    },
    {
      "cell_type": "code",
      "metadata": {
        "id": "6gaqjjlRiOle"
      },
      "source": [
        "from sklearn.model_selection import GridSearchCV\n",
        "X = df['question']\n",
        "y = df['intent']\n",
        "X_train, X_test, y_train, y_test = train_test_split(X, y, test_size=0.3, random_state = 42,stratify=y)"
      ],
      "execution_count": null,
      "outputs": []
    },
    {
      "cell_type": "code",
      "metadata": {
        "id": "4ROSZcnSj4u1"
      },
      "source": [
        "pip= Pipeline([('vect', CountVectorizer()),\n",
        "                ('tfidf', TfidfTransformer()),\n",
        "                ('clf', LogisticRegression(n_jobs=1)),\n",
        "               ])\n",
        " \n",
        "parameters={'vect__max_features':[24],\n",
        "        'clf__C':[0.01,0.03,0.1,0.3,1,3,10,30,100],\n",
        "        'tfidf__use_idf': (True, False),\n",
        "        'clf__penalty':['l1','l2','none'],\n",
        "        \n",
        "        'clf__solver':[\"liblinear\",'auto']\n",
        "        }"
      ],
      "execution_count": null,
      "outputs": []
    },
    {
      "cell_type": "code",
      "metadata": {
        "id": "XRSKUcqckLhE"
      },
      "source": [
        "grid_pipeline = GridSearchCV(pip,parameters , cv=5)\n",
        "# fit\n",
        "grid_pipeline.fit(X_train,y_train)\n",
        "grid_pipeline.best_params_"
      ],
      "execution_count": null,
      "outputs": []
    },
    {
      "cell_type": "code",
      "metadata": {
        "id": "TORNwegRl1tl"
      },
      "source": [
        "grid_pipeline.cv_results_;"
      ],
      "execution_count": null,
      "outputs": []
    },
    {
      "cell_type": "code",
      "metadata": {
        "id": "psYuQ4yVmYOA"
      },
      "source": [
        "df2=pd.DataFrame(grid_pipeline.cv_results_)\n",
        "#df2"
      ],
      "execution_count": null,
      "outputs": []
    },
    {
      "cell_type": "code",
      "metadata": {
        "colab": {
          "base_uri": "https://localhost:8080/",
          "height": 605
        },
        "id": "89Q3r_44nDgP",
        "outputId": "bfe993c6-ea10-4ff5-d313-914f4b38847d"
      },
      "source": [
        "x=df2[[\t'param_clf__C','mean_test_score'\t]]\n",
        "x.head(60)"
      ],
      "execution_count": null,
      "outputs": [
        {
          "output_type": "execute_result",
          "data": {
            "text/html": [
              "<div>\n",
              "<style scoped>\n",
              "    .dataframe tbody tr th:only-of-type {\n",
              "        vertical-align: middle;\n",
              "    }\n",
              "\n",
              "    .dataframe tbody tr th {\n",
              "        vertical-align: top;\n",
              "    }\n",
              "\n",
              "    .dataframe thead th {\n",
              "        text-align: right;\n",
              "    }\n",
              "</style>\n",
              "<table border=\"1\" class=\"dataframe\">\n",
              "  <thead>\n",
              "    <tr style=\"text-align: right;\">\n",
              "      <th></th>\n",
              "      <th>param_clf__C</th>\n",
              "      <th>mean_test_score</th>\n",
              "    </tr>\n",
              "  </thead>\n",
              "  <tbody>\n",
              "    <tr>\n",
              "      <th>0</th>\n",
              "      <td>0.01</td>\n",
              "      <td>0.429895</td>\n",
              "    </tr>\n",
              "    <tr>\n",
              "      <th>1</th>\n",
              "      <td>0.01</td>\n",
              "      <td>0.429895</td>\n",
              "    </tr>\n",
              "    <tr>\n",
              "      <th>2</th>\n",
              "      <td>0.03</td>\n",
              "      <td>0.474205</td>\n",
              "    </tr>\n",
              "    <tr>\n",
              "      <th>3</th>\n",
              "      <td>0.03</td>\n",
              "      <td>0.476845</td>\n",
              "    </tr>\n",
              "    <tr>\n",
              "      <th>4</th>\n",
              "      <td>0.1</td>\n",
              "      <td>0.641564</td>\n",
              "    </tr>\n",
              "    <tr>\n",
              "      <th>5</th>\n",
              "      <td>0.1</td>\n",
              "      <td>0.640902</td>\n",
              "    </tr>\n",
              "    <tr>\n",
              "      <th>6</th>\n",
              "      <td>0.3</td>\n",
              "      <td>0.646202</td>\n",
              "    </tr>\n",
              "    <tr>\n",
              "      <th>7</th>\n",
              "      <td>0.3</td>\n",
              "      <td>0.645542</td>\n",
              "    </tr>\n",
              "    <tr>\n",
              "      <th>8</th>\n",
              "      <td>1</td>\n",
              "      <td>0.644874</td>\n",
              "    </tr>\n",
              "    <tr>\n",
              "      <th>9</th>\n",
              "      <td>1</td>\n",
              "      <td>0.643549</td>\n",
              "    </tr>\n",
              "    <tr>\n",
              "      <th>10</th>\n",
              "      <td>3</td>\n",
              "      <td>0.647501</td>\n",
              "    </tr>\n",
              "    <tr>\n",
              "      <th>11</th>\n",
              "      <td>3</td>\n",
              "      <td>0.646841</td>\n",
              "    </tr>\n",
              "    <tr>\n",
              "      <th>12</th>\n",
              "      <td>10</td>\n",
              "      <td>0.646841</td>\n",
              "    </tr>\n",
              "    <tr>\n",
              "      <th>13</th>\n",
              "      <td>10</td>\n",
              "      <td>0.649487</td>\n",
              "    </tr>\n",
              "    <tr>\n",
              "      <th>14</th>\n",
              "      <td>30</td>\n",
              "      <td>0.644198</td>\n",
              "    </tr>\n",
              "    <tr>\n",
              "      <th>15</th>\n",
              "      <td>30</td>\n",
              "      <td>0.647505</td>\n",
              "    </tr>\n",
              "    <tr>\n",
              "      <th>16</th>\n",
              "      <td>100</td>\n",
              "      <td>0.644198</td>\n",
              "    </tr>\n",
              "    <tr>\n",
              "      <th>17</th>\n",
              "      <td>100</td>\n",
              "      <td>0.647505</td>\n",
              "    </tr>\n",
              "  </tbody>\n",
              "</table>\n",
              "</div>"
            ],
            "text/plain": [
              "   param_clf__C  mean_test_score\n",
              "0          0.01         0.429895\n",
              "1          0.01         0.429895\n",
              "2          0.03         0.474205\n",
              "3          0.03         0.476845\n",
              "4           0.1         0.641564\n",
              "5           0.1         0.640902\n",
              "6           0.3         0.646202\n",
              "7           0.3         0.645542\n",
              "8             1         0.644874\n",
              "9             1         0.643549\n",
              "10            3         0.647501\n",
              "11            3         0.646841\n",
              "12           10         0.646841\n",
              "13           10         0.649487\n",
              "14           30         0.644198\n",
              "15           30         0.647505\n",
              "16          100         0.644198\n",
              "17          100         0.647505"
            ]
          },
          "metadata": {
            "tags": []
          },
          "execution_count": 265
        }
      ]
    },
    {
      "cell_type": "code",
      "metadata": {
        "id": "vkja2Xd5oZi1"
      },
      "source": [
        "#x.tail(70)"
      ],
      "execution_count": null,
      "outputs": []
    },
    {
      "cell_type": "code",
      "metadata": {
        "colab": {
          "base_uri": "https://localhost:8080/"
        },
        "id": "zlx4JgzFyGzJ",
        "outputId": "f1ed7112-eaa7-4ff9-f78b-9cf17ef07da9"
      },
      "source": [
        "grid_pipeline.best_params_"
      ],
      "execution_count": null,
      "outputs": [
        {
          "output_type": "execute_result",
          "data": {
            "text/plain": [
              "{'clf__C': 0.3,\n",
              " 'clf__penalty': 'l1',\n",
              " 'clf__solver': 'liblinear',\n",
              " 'tfidf__use_idf': False,\n",
              " 'vect__max_features': 24}"
            ]
          },
          "metadata": {
            "tags": []
          },
          "execution_count": 284
        }
      ]
    },
    {
      "cell_type": "code",
      "metadata": {
        "colab": {
          "base_uri": "https://localhost:8080/",
          "height": 364
        },
        "id": "jm_m6GG91rQS",
        "outputId": "c88871c0-2f58-46ea-a93d-c5ce32a1e33b"
      },
      "source": [
        "x['mean_test_score'].values\n",
        "\n",
        "ax1=x.plot(x='param_clf__C',y='mean_test_score',figsize=((10,5)));\n",
        "ax1.set_xlim(0,1);\n",
        "\n",
        "plt.xlabel('C-Regularization parameter',fontsize=20); \n",
        "plt.ylabel('Mean test score',fontsize=20); \n",
        "plt.xticks(fontsize=10)\n",
        "plt.yticks(fontsize=10)   \n",
        "# displaying the title\n",
        "plt.title(\"LR with TFIDF C scores-Oversampled\",fontsize=20);\n"
      ],
      "execution_count": null,
      "outputs": [
        {
          "output_type": "display_data",
          "data": {
            "image/png": "[encoded data removed]",
            "text/plain": [
              "<Figure size 720x360 with 1 Axes>"
            ]
          },
          "metadata": {
            "tags": []
          }
        }
      ]
    },
    {
      "cell_type": "markdown",
      "metadata": {
        "id": "ZuvR0ehQOvl_"
      },
      "source": [
        "# naive baiyes tuning"
      ]
    },
    {
      "cell_type": "code",
      "metadata": {
        "id": "Zll_M8zaO2mY"
      },
      "source": [
        "from sklearn.pipeline import Pipeline\n",
        "from sklearn.naive_bayes import MultinomialNB\n",
        "from sklearn.feature_extraction.text import CountVectorizer, TfidfTransformer\n",
        "from sklearn.model_selection import train_test_split, GridSearchCV\n",
        "\n",
        "\n",
        "X = df['question']\n",
        "y = df['intent']\n",
        "X_train, X_test, y_train, y_test = train_test_split(X, y, test_size=0.3, random_state = 42,stratify=y)\n",
        "\n",
        "text_clf = Pipeline([('vect', CountVectorizer()),\n",
        "                     ('tfidf', TfidfTransformer()),\n",
        "                     ('clf', MultinomialNB())])\n",
        "parameters = {\n",
        "    'vect__ngram_range': [(1, 1), (1, 2), (2, 2)],\n",
        "    'tfidf__use_idf': (True, False),\n",
        "    'tfidf__norm': ('l1', 'l2'),\n",
        "    'clf__alpha': [1, 1e-1, 1e-2,0.3]\n",
        "}"
      ],
      "execution_count": null,
      "outputs": []
    },
    {
      "cell_type": "code",
      "metadata": {
        "colab": {
          "base_uri": "https://localhost:8080/"
        },
        "id": "0Jfh-bnyO20i",
        "outputId": "e443616b-035c-42b7-b094-32dfab807e04"
      },
      "source": [
        "grid_pipeline = GridSearchCV(text_clf,parameters , cv=5)\n",
        "# fit\n",
        "grid_pipeline.fit(X_train,y_train)\n",
        "grid_pipeline.best_params_"
      ],
      "execution_count": null,
      "outputs": [
        {
          "output_type": "execute_result",
          "data": {
            "text/plain": [
              "{'clf__alpha': 0.1,\n",
              " 'tfidf__norm': 'l2',\n",
              " 'tfidf__use_idf': False,\n",
              " 'vect__ngram_range': (1, 1)}"
            ]
          },
          "metadata": {
            "tags": []
          },
          "execution_count": 296
        }
      ]
    },
    {
      "cell_type": "code",
      "metadata": {
        "id": "FMSMrd8AO29V"
      },
      "source": [
        "df22=pd.DataFrame(grid_pipeline.cv_results_)\n",
        "df22"
      ],
      "execution_count": null,
      "outputs": []
    },
    {
      "cell_type": "markdown",
      "metadata": {
        "id": "FDm0fjaTaahA"
      },
      "source": [
        "# trials"
      ]
    },
    {
      "cell_type": "code",
      "metadata": {
        "colab": {
          "background_save": true,
          "base_uri": "https://localhost:8080/"
        },
        "id": "KJ2H8hmvi8Xl",
        "outputId": "920ffa9c-a34e-49d0-e9e3-f1a8d56ec748"
      },
      "source": [
        "from tqdm import tqdm\n",
        "tqdm.pandas(desc=\"progress-bar\")\n",
        "from gensim.models import Doc2Vec\n",
        "from sklearn import utils\n",
        "import gensim\n",
        "from gensim.models.doc2vec import TaggedDocument\n",
        "import re\n",
        "\n",
        "\n",
        "\n",
        "def label_sentences(corpus, label_type):\n",
        "    \"\"\"\n",
        "    Gensim's Doc2Vec implementation requires each document/paragraph to have a label associated with it.\n",
        "    We do this by using the TaggedDocument method. The format will be \"TRAIN_i\" or \"TEST_i\" where \"i\" is\n",
        "    a dummy index of the post.\n",
        "    \"\"\"\n",
        "    labeled = []\n",
        "    for i, v in enumerate(corpus):\n",
        "        label = label_type + '_' + str(i)\n",
        "        labeled.append(TaggedDocument(v.split(), [label]))\n",
        "    return labeled\n",
        "\n",
        "\n",
        "\n",
        "#------------------------------------------------------------------------\n",
        "def get_vectors(model, corpus_size, vectors_size, vectors_type):\n",
        "  \"\"\"\n",
        "  Get vectors from trained doc2vec model\n",
        "  :param doc2vec_model: Trained Doc2Vec model\n",
        "  :param corpus_size: Size of the data\n",
        "  :param vectors_size: Size of the embedding vectors\n",
        "  :param vectors_type: Training or Testing vectors\n",
        "  :return: list of vectors\n",
        "  \"\"\"\n",
        "  vectors = np.zeros((corpus_size, vectors_size))\n",
        "  for i in range(0, corpus_size):\n",
        "      prefix = vectors_type + '_' + str(i)\n",
        "      vectors[i] = model.docvecs[prefix]\n",
        "  return vectors"
      ],
      "execution_count": null,
      "outputs": [
        {
          "output_type": "stream",
          "text": [
            "/usr/local/lib/python3.7/dist-packages/tqdm/std.py:658: FutureWarning: The Panel class is removed from pandas. Accessing it from the top-level namespace will also be removed in the next version\n",
            "  from pandas import Panel\n"
          ],
          "name": "stderr"
        }
      ]
    },
    {
      "cell_type": "code",
      "metadata": {
        "id": "qHblvDDYjMed"
      },
      "source": [
        "X = df['question']\n",
        "y = df['intent']\n",
        "\n",
        "#X_train, X_test, y_train, y_test = train_test_split(X, y, test_size=0.0025, random_state = 42,stratify=y)\n",
        "#X_train, X_test, y_train, y_test = train_test_split(X, y, test_size=0.3, random_state = 42,stratify=y)\n",
        "\n",
        "X_train = label_sentences(X_train, 'Train')\n",
        "X_test = label_sentences(X_test, 'Test')\n",
        "all_data = X_train + X_test\n",
        "\n",
        "#-----------------------------------------------------------------------------------------------\n",
        "model_dbow = Doc2Vec(dm=0, vector_size=24, negative=5, min_count=3, alpha=0.065, min_alpha=0.065)\n",
        "\n",
        "\n",
        "\n",
        "reg=10\n",
        "ep=20\n",
        "\n",
        "\n",
        "#model_d2v = gensim.models.Doc2Vec(dm=1, # dm = 1 for ‘distributed memory’ model \n",
        "                                 # dm_mean=1, # dm = 1 for using mean of the context word vectors\n",
        "                                 # size=200, # no. of desired features\n",
        "                                 # window=5, # width of the context window\n",
        "                                 # negative=7, # if > 0 then negative sampling will be used\n",
        "                                  #min_count=5, # Ignores all words with total frequency lower than 2.\n",
        "                                 # workers=3, # no. of cores\n",
        "                                 # alpha=0.1, # learning rate\n",
        "                                 # seed = 23)\n",
        "\n",
        "\n",
        "\n",
        "# model_dbow = gensim.models.Doc2Vec(dm=1, # dm = 1 for ‘distributed memory’ model \n",
        "#                                   dm_mean=1, # dm = 1 for using mean of the context word vectors\n",
        "#                                   size=25, # no. of desired features\n",
        "#                                   window=5, # width of the context window\n",
        "#                                   negative=7, # if > 0 then negative sampling will be used\n",
        "#                                   min_count=5, # Ignores all words with total frequency lower than 2.\n",
        "#                                   workers=3, # no. of cores\n",
        "#                                   alpha=0.1, # learning rate\n",
        "#                                   seed = 23)\n",
        "\n",
        "model_dbow.build_vocab([x for x in tqdm(all_data)])\n",
        "#--------------------------------------------------------------------------------------\n",
        "for epoch in range(ep):\n",
        "    model_dbow.train(utils.shuffle([x for x in tqdm(all_data)]), total_examples=len(all_data), epochs=1)\n",
        "    model_dbow.alpha -= 0.002\n",
        "    model_dbow.min_alpha = model_dbow.alpha   \n",
        "\n",
        "#--------------------------------------------------------------------------------------------------- \n",
        "train_vectors_dbow = get_vectors(model_dbow, len(X_train), 24, 'Train')\n",
        "test_vectors_dbow = get_vectors(model_dbow, len(X_test), 24, 'Test')\n",
        "#---------------------------------------------------------------------------\n",
        "\n",
        "#-------------------------------------------------\n",
        "#---------------------------------------------------\n",
        "\n",
        "# parameters={\n",
        "#         'clf__C':[0.01,0.03,0.1,0.3,1,3,10,30,100],\n",
        "      \n",
        "#         'clf__penalty':['l1','l2','none'],\n",
        "        \n",
        "#         'clf__solver':[\"liblinear\",'auto']\n",
        "#         }\n",
        "\n",
        "# logreg= Pipeline([\n",
        "#                 ('clf', LogisticRegression(n_jobs=1)),\n",
        "#                ])       \n",
        "\n",
        "\n",
        "# grid_pipeline = GridSearchCV(logreg,parameters , cv=5)\n",
        "# # fit\n",
        "# grid_pipeline.fit(train_vectors_dbow, y_train)\n",
        "# grid_pipeline.best_params_\n",
        "#------------------------------------------------------------------------\n",
        "logreg = LogisticRegression(n_jobs=1, C=reg , solver='liblinear',penalty='l1')\n",
        "logreg.fit(train_vectors_dbow, y_train)\n",
        "#-----------------------------------------------------------------------------\n",
        "\n",
        "logreg = logreg.fit(train_vectors_dbow, y_train)\n",
        "y_pred = logreg.predict(test_vectors_dbow)\n",
        "#-----------------------------------------------------\n",
        "\n",
        "from sklearn.metrics import classification_report\n",
        "from sklearn.metrics import accuracy_score, confusion_matrix\n",
        "print('accuracy %s' % accuracy_score(y_pred, y_test))\n",
        "\n",
        "\n",
        "print(\" doc2vec\"+\" [ C=\"+str(reg)+\" epoch=\"+str(ep)+\" ]\")\n",
        "print(classification_report(y_test, y_pred))\n",
        "\n"
      ],
      "execution_count": null,
      "outputs": []
    },
    {
      "cell_type": "code",
      "metadata": {
        "id": "5FthBVQS4irD"
      },
      "source": [
        ""
      ],
      "execution_count": null,
      "outputs": []
    },
    {
      "cell_type": "code",
      "metadata": {
        "id": "4c2W5VW74iup"
      },
      "source": [
        ""
      ],
      "execution_count": null,
      "outputs": []
    },
    {
      "cell_type": "code",
      "metadata": {
        "colab": {
          "background_save": true
        },
        "id": "JkZzA2BL4iyn"
      },
      "source": [
        "import numpy as np\n",
        "import matplotlib.pyplot as plt\n",
        "from sklearn.ensemble import RandomForestClassifier\n",
        "from sklearn import datasets\n",
        "from sklearn.model_selection import learning_curve\n",
        "\n",
        "\n",
        "\n",
        "\n",
        "\n",
        "\n",
        "\n",
        "\n",
        "#X, y = df['question'], df['intent']\n",
        "\n",
        "MOD=Pipeline([\n",
        "                ('clf', LogisticRegression(n_jobs=1,C=reg,solver='liblinear',penalty='l1')),\n",
        "             ]) \n",
        "\n",
        "train_sizes, train_scores, test_scores = learning_curve(MOD, train_vectors_dbow, y_train, cv=10, scoring='accuracy', n_jobs=1, train_sizes=np.linspace(0.01, 1.0, 50),)\n",
        "\n",
        "train_mean = np.mean(train_scores, axis=1)\n",
        "train_std = np.std(train_scores, axis=1)\n",
        "\n",
        "test_mean = np.mean(test_scores, axis=1)\n",
        "test_std = np.std(test_scores, axis=1)\n",
        "\n",
        "plt.subplots(1, figsize=(10,10))\n",
        "plt.plot(train_sizes, train_mean, '--', color=\"#111111\",  label=\"Training score\")\n",
        "plt.plot(train_sizes, test_mean, color=\"#111111\", label=\"Cross-validation score\")\n",
        "\n",
        "plt.fill_between(train_sizes, train_mean - train_std, train_mean + train_std, color=\"#DDDDDD\")\n",
        "plt.fill_between(train_sizes, test_mean - test_std, test_mean + test_std, color=\"#DDDDDD\")\n",
        "\n",
        "plt.title(\"Learning Curve [ C=\"+str(reg)+\" epoch=\"+str(ep)+\" ]\")\n",
        "plt.xlabel(\"Training Set Size\"), plt.ylabel(\"Accuracy Score\"), plt.legend(loc=\"best\")\n",
        "plt.tight_layout()\n",
        "plt.show()\n"
      ],
      "execution_count": null,
      "outputs": []
    },
    {
      "cell_type": "code",
      "metadata": {
        "colab": {
          "background_save": true
        },
        "id": "xjKzefAe4i1_"
      },
      "source": [
        ""
      ],
      "execution_count": null,
      "outputs": []
    },
    {
      "cell_type": "code",
      "metadata": {
        "colab": {
          "background_save": true
        },
        "id": "2_V-iK8E4i5I"
      },
      "source": [
        ""
      ],
      "execution_count": null,
      "outputs": []
    }
  ]
}