{
  "nbformat": 4,
  "nbformat_minor": 0,
  "metadata": {
    "colab": {
      "name": "tune__kera_bert.ipynb",
      "provenance": [],
      "collapsed_sections": [
        "DM1-vukBZRYN",
        "1PSgsBKPKVuA",
        "lezcT33maH2g",
        "W1qN6s5uaX4A",
        "_qQsMHHJamJu",
        "mbTQ-oxEdmhH",
        "oma7YcCleUhn",
        "aqOFxS-FkwFh",
        "PWWc8HgXc4X7"
      ]
    },
    "kernelspec": {
      "display_name": "Python 3",
      "name": "python3"
    },
    "language_info": {
      "name": "python"
    }
  },
  "cells": [
    {
      "cell_type": "markdown",
      "metadata": {
        "id": "DM1-vukBZRYN"
      },
      "source": [
        "# initialization"
      ]
    },
    {
      "cell_type": "code",
      "metadata": {
        "colab": {
          "base_uri": "https://localhost:8080/"
        },
        "id": "Hvn3HPeBKIof",
        "outputId": "d233080d-3a67-422c-eace-d08a4a37813b"
      },
      "source": [
        "from google.colab import drive\n",
        "drive.mount('/content/gdrive')\n",
        "\n",
        "# Code to read csv file into colaboratory:\n",
        "!pip install -U -q PyDrive\n",
        "from pydrive.auth import GoogleAuth\n",
        "from pydrive.drive import GoogleDrive\n",
        "from google.colab import auth\n",
        "from oauth2client.client import GoogleCredentials\n",
        "\n",
        "\n",
        "\n",
        "auth.authenticate_user()\n",
        "gauth = GoogleAuth()\n",
        "gauth.credentials = GoogleCredentials.get_application_default()\n",
        "drive = GoogleDrive(gauth)"
      ],
      "execution_count": 125,
      "outputs": [
        {
          "output_type": "stream",
          "text": [
            "Drive already mounted at /content/gdrive; to attempt to forcibly remount, call drive.mount(\"/content/gdrive\", force_remount=True).\n"
          ],
          "name": "stdout"
        }
      ]
    },
    {
      "cell_type": "code",
      "metadata": {
        "id": "SkWzLkbVKaBW"
      },
      "source": [
        "downloaded = drive.CreateFile({'id':'1vkXUOP4lGvCaARhFOirBgj1VwmkX0VI-'}) # replace the id with id of file you want to access\n",
        "downloaded.GetContentFile('cleaning_1.xlsx') "
      ],
      "execution_count": 126,
      "outputs": []
    },
    {
      "cell_type": "code",
      "metadata": {
        "id": "e8gBphASKc-F"
      },
      "source": [
        "downloaded = drive.CreateFile({'id':'1uWVz1y4tu3UTi7UXAEM1D4cy2KJpdUw8'}) # replace the id with id of file you want to access\n",
        "downloaded.GetContentFile('stop_words.txt') "
      ],
      "execution_count": 127,
      "outputs": []
    },
    {
      "cell_type": "code",
      "metadata": {
        "id": "BiIgq9q3KzHp"
      },
      "source": [
        ""
      ],
      "execution_count": 127,
      "outputs": []
    },
    {
      "cell_type": "code",
      "metadata": {
        "id": "aA85whjiBRZd"
      },
      "source": [
        ""
      ],
      "execution_count": 127,
      "outputs": []
    },
    {
      "cell_type": "code",
      "metadata": {
        "id": "AjTFkp9lBlcm"
      },
      "source": [
        ""
      ],
      "execution_count": 127,
      "outputs": []
    },
    {
      "cell_type": "markdown",
      "metadata": {
        "id": "1PSgsBKPKVuA"
      },
      "source": [
        "# preprocessing"
      ]
    },
    {
      "cell_type": "code",
      "metadata": {
        "colab": {
          "base_uri": "https://localhost:8080/"
        },
        "id": "D3FBGL-oLaDB",
        "outputId": "ce23d428-335c-4be1-cbb5-31b49d41345e"
      },
      "source": [
        "import pandas as pd\n",
        "import numpy as np\n",
        "import matplotlib.pyplot as plt\n",
        "import re\n",
        "import nltk\n",
        "from sklearn.model_selection import train_test_split\n",
        "from sklearn.feature_extraction.text import CountVectorizer, TfidfVectorizer\n",
        "\n",
        "df = pd.read_excel (r'cleaning_1.xlsx')\n",
        "df.shape\n",
        "\n",
        "df['intent'].replace(to_replace=[' drug+dose','drug+dose', 'drug+dpse'], value='drugs', inplace=True)\n",
        "df['intent'].replace(to_replace=['contageos', 'contagious'] ,value ='contageous', inplace=True)\n",
        "df['intent'].replace(to_replace=['info', 'Info'], value='information', inplace=True)\n",
        "\n",
        "\n",
        "indexNames=df[(df['intent'] =='drugs') \n",
        "              | (df['intent'] =='food+product') \n",
        "              | (df['intent']=='vaccine')\n",
        "              |(df['intent'] =='symptoms')].index.tolist()\n",
        "\n",
        "\n",
        "df=df.iloc[indexNames,:]\n",
        "df.intent.unique() , df.shape             "
      ],
      "execution_count": 128,
      "outputs": [
        {
          "output_type": "execute_result",
          "data": {
            "text/plain": [
              "(array(['drugs', 'food+product', 'symptoms', 'vaccine'], dtype=object),\n",
              " (1984, 3))"
            ]
          },
          "metadata": {
            "tags": []
          },
          "execution_count": 128
        }
      ]
    },
    {
      "cell_type": "markdown",
      "metadata": {
        "id": "lezcT33maH2g"
      },
      "source": [
        "# ABUBAKR CLEANING"
      ]
    },
    {
      "cell_type": "code",
      "metadata": {
        "id": "vTTLhX4KLyKX"
      },
      "source": [
        "# ==== Helper Methods =====\n",
        "import re\n",
        "import numpy as np\n",
        "from nltk import ngrams\n",
        "import matplotlib.pyplot as plt\n",
        "\n",
        "# Clean/Normalize Arabic Text\n",
        "def clean_str(text):\n",
        "    search = [\"أ\",\"إ\",\"آ\",\"ة\",\"_\",\"-\",\"/\",\".\",\"،\",\" و \",\" يا \",'\"',\"ـ\",\"'\",\"ى\",\"\\\\\",'\\n', '\\t','&quot;','?','؟','!']\n",
        "    replace = [\"ا\",\"ا\",\"ا\",\"ه\",\" \",\" \",\"\",\"\",\"\",\" و\",\" يا\",\"\",\"\",\"\",\"ي\",\"\",' ', ' ',' ',' ? ',' ؟ ',' ! ']\n",
        "    \n",
        "    #remove tashkeel\n",
        "    p_tashkeel = re.compile(r'[\\u0617-\\u061A\\u064B-\\u0652]')\n",
        "    text = re.sub(p_tashkeel,\"\", text)\n",
        "    \n",
        "    #remove longation\n",
        "    p_longation = re.compile(r'(.)\\1+')\n",
        "    subst = r\"\\1\\1\"\n",
        "    text = re.sub(p_longation, subst, text)\n",
        "    \n",
        "    text = text.replace('وو', 'و')\n",
        "    text = text.replace('يي', 'ي')\n",
        "    text = text.replace('اا', 'ا')\n",
        "    \n",
        "    for i in range(0, len(search)):\n",
        "        text = text.replace(search[i], replace[i])\n",
        "    \n",
        "    #trim    \n",
        "    text = text.strip()\n",
        "\n",
        "    return text"
      ],
      "execution_count": 129,
      "outputs": []
    },
    {
      "cell_type": "code",
      "metadata": {
        "id": "-3sZvSkHMFES"
      },
      "source": [
        "#abubakr clean_str\n",
        "df['question'] =  df['question'].apply(lambda x: clean_str(x))"
      ],
      "execution_count": 130,
      "outputs": []
    },
    {
      "cell_type": "markdown",
      "metadata": {
        "id": "W1qN6s5uaX4A"
      },
      "source": [
        "# STOPWORDS"
      ]
    },
    {
      "cell_type": "code",
      "metadata": {
        "colab": {
          "base_uri": "https://localhost:8080/"
        },
        "id": "mQijsBgFMFHN",
        "outputId": "674a7fb6-b829-4bfb-8dd2-c8bc7c82b5dc"
      },
      "source": [
        "!pip install nltk\n",
        "import nltk\n",
        "nltk.download('stopwords')\n",
        "\n",
        "from nltk.corpus import stopwords\n",
        "stopwords_list = stopwords.words('arabic')\n",
        "#print(stopwords_list)\n",
        "#---------------------------------------------------------------------------\n",
        "egyp=[]\n",
        "# Using readlines()\n",
        "\n",
        "file1 = open(\"stop_words.txt\", \"r\" ,encoding = \"utf-8\")\n",
        "Lines = file1.readlines()\n",
        "count = 0\n",
        "# Strips the newline character\n",
        "for line in Lines:\n",
        "    count += 1\n",
        "    egyp.append(line.strip())\n",
        "    \n",
        "    #print( line.strip())\n",
        "#print(egyp)\n",
        "#----------------------------------------------------------------------------\n",
        "# combine two lists\n",
        "egyp=egyp+stopwords_list"
      ],
      "execution_count": 131,
      "outputs": [
        {
          "output_type": "stream",
          "text": [
            "Requirement already satisfied: nltk in /usr/local/lib/python3.7/dist-packages (3.2.5)\n",
            "Requirement already satisfied: six in /usr/local/lib/python3.7/dist-packages (from nltk) (1.15.0)\n",
            "[nltk_data] Downloading package stopwords to /root/nltk_data...\n",
            "[nltk_data]   Package stopwords is already up-to-date!\n"
          ],
          "name": "stdout"
        }
      ]
    },
    {
      "cell_type": "code",
      "metadata": {
        "id": "rwygrTJ-MFKn"
      },
      "source": [
        "df['question']=df['question'].apply(lambda words: ' '.join(re.sub('^(ال)',\"\",word)\n",
        "                                                           for word in words.split() if ((word not in egyp))))"
      ],
      "execution_count": 132,
      "outputs": []
    },
    {
      "cell_type": "markdown",
      "metadata": {
        "id": "_qQsMHHJamJu"
      },
      "source": [
        "# TRANSFORMER LIBR"
      ]
    },
    {
      "cell_type": "code",
      "metadata": {
        "colab": {
          "base_uri": "https://localhost:8080/"
        },
        "id": "VyCnszZ6P22F",
        "outputId": "65988297-1405-4d72-d0b5-d67eeb7f71f6"
      },
      "source": [
        "!pip install transformers"
      ],
      "execution_count": 133,
      "outputs": [
        {
          "output_type": "stream",
          "text": [
            "Requirement already satisfied: transformers in /usr/local/lib/python3.7/dist-packages (4.8.2)\n",
            "Requirement already satisfied: huggingface-hub==0.0.12 in /usr/local/lib/python3.7/dist-packages (from transformers) (0.0.12)\n",
            "Requirement already satisfied: tqdm>=4.27 in /usr/local/lib/python3.7/dist-packages (from transformers) (4.41.1)\n",
            "Requirement already satisfied: pyyaml in /usr/local/lib/python3.7/dist-packages (from transformers) (3.13)\n",
            "Requirement already satisfied: regex!=2019.12.17 in /usr/local/lib/python3.7/dist-packages (from transformers) (2019.12.20)\n",
            "Requirement already satisfied: numpy>=1.17 in /usr/local/lib/python3.7/dist-packages (from transformers) (1.19.5)\n",
            "Requirement already satisfied: tokenizers<0.11,>=0.10.1 in /usr/local/lib/python3.7/dist-packages (from transformers) (0.10.3)\n",
            "Requirement already satisfied: filelock in /usr/local/lib/python3.7/dist-packages (from transformers) (3.0.12)\n",
            "Requirement already satisfied: importlib-metadata; python_version < \"3.8\" in /usr/local/lib/python3.7/dist-packages (from transformers) (4.6.0)\n",
            "Requirement already satisfied: sacremoses in /usr/local/lib/python3.7/dist-packages (from transformers) (0.0.45)\n",
            "Requirement already satisfied: packaging in /usr/local/lib/python3.7/dist-packages (from transformers) (20.9)\n",
            "Requirement already satisfied: requests in /usr/local/lib/python3.7/dist-packages (from transformers) (2.23.0)\n",
            "Requirement already satisfied: typing-extensions in /usr/local/lib/python3.7/dist-packages (from huggingface-hub==0.0.12->transformers) (3.7.4.3)\n",
            "Requirement already satisfied: zipp>=0.5 in /usr/local/lib/python3.7/dist-packages (from importlib-metadata; python_version < \"3.8\"->transformers) (3.4.1)\n",
            "Requirement already satisfied: six in /usr/local/lib/python3.7/dist-packages (from sacremoses->transformers) (1.15.0)\n",
            "Requirement already satisfied: click in /usr/local/lib/python3.7/dist-packages (from sacremoses->transformers) (7.1.2)\n",
            "Requirement already satisfied: joblib in /usr/local/lib/python3.7/dist-packages (from sacremoses->transformers) (1.0.1)\n",
            "Requirement already satisfied: pyparsing>=2.0.2 in /usr/local/lib/python3.7/dist-packages (from packaging->transformers) (2.4.7)\n",
            "Requirement already satisfied: certifi>=2017.4.17 in /usr/local/lib/python3.7/dist-packages (from requests->transformers) (2021.5.30)\n",
            "Requirement already satisfied: urllib3!=1.25.0,!=1.25.1,<1.26,>=1.21.1 in /usr/local/lib/python3.7/dist-packages (from requests->transformers) (1.24.3)\n",
            "Requirement already satisfied: idna<3,>=2.5 in /usr/local/lib/python3.7/dist-packages (from requests->transformers) (2.10)\n",
            "Requirement already satisfied: chardet<4,>=3.0.2 in /usr/local/lib/python3.7/dist-packages (from requests->transformers) (3.0.4)\n"
          ],
          "name": "stdout"
        }
      ]
    },
    {
      "cell_type": "code",
      "metadata": {
        "id": "7rAiLgJ8OMNK"
      },
      "source": [
        "import transformers\n",
        "from transformers import AutoModel, BertTokenizerFast"
      ],
      "execution_count": 134,
      "outputs": []
    },
    {
      "cell_type": "code",
      "metadata": {
        "id": "jfOJHDwzOMP8"
      },
      "source": [
        "from transformers import AutoTokenizer, AutoModel\n",
        "\n",
        "# Mini:   asafaya/bert-mini-arabic\n",
        "# Medium: asafaya/bert-medium-arabic\n",
        "# Base:   asafaya/bert-base-arabic\n",
        "# Large:  asafaya/bert-large-arabic\n",
        "\n"
      ],
      "execution_count": 135,
      "outputs": []
    },
    {
      "cell_type": "markdown",
      "metadata": {
        "id": "mbTQ-oxEdmhH"
      },
      "source": [
        "# training "
      ]
    },
    {
      "cell_type": "markdown",
      "metadata": {
        "id": "E7AOR2ROlVuf"
      },
      "source": [
        "**THE MULTI CLASS -------------------------------------------------------------**\n",
        "\n"
      ]
    },
    {
      "cell_type": "code",
      "metadata": {
        "colab": {
          "base_uri": "https://localhost:8080/"
        },
        "id": "As-Q2GYhcpag",
        "outputId": "f53c3072-6c18-4f8c-f417-70a02960cce0"
      },
      "source": [
        "#encoding the intents\n",
        "possible_labels = df.intent.unique()\n",
        "\n",
        "label_dict = {}\n",
        "for index, possible_label in enumerate(possible_labels):\n",
        "    label_dict[possible_label] = index\n",
        "label_dict"
      ],
      "execution_count": 136,
      "outputs": [
        {
          "output_type": "execute_result",
          "data": {
            "text/plain": [
              "{'drugs': 0, 'food+product': 1, 'symptoms': 2, 'vaccine': 3}"
            ]
          },
          "metadata": {
            "tags": []
          },
          "execution_count": 136
        }
      ]
    },
    {
      "cell_type": "code",
      "metadata": {
        "id": "AHcaTyS_Y4Sx"
      },
      "source": [
        "df['label'] = df.intent.replace(label_dict)"
      ],
      "execution_count": 137,
      "outputs": []
    },
    {
      "cell_type": "code",
      "metadata": {
        "id": "ZoW8ztR9ZSNx"
      },
      "source": [
        "#tokenizer = AutoTokenizer.from_pretrained(\"asafaya/bert-base-arabic\")\n",
        "\n",
        "#bert = AutoModel.from_pretrained(\"asafaya/bert-base-arabic\")\n",
        "\n",
        "\n",
        "\n",
        "# import BERT-base pretrained model\n",
        "#bert = AutoModel.from_pretrained('bert-base-uncased')\n",
        "\n",
        "# Load the BERT tokenizer\n",
        "#tokenizer = BertTokenizerFast.from_pretrained('bert-base-uncased')"
      ],
      "execution_count": 138,
      "outputs": []
    },
    {
      "cell_type": "code",
      "metadata": {
        "id": "jTQYl4BlXvhv"
      },
      "source": [
        "import torch\n",
        "from tqdm.notebook import tqdm\n",
        "\n",
        "from transformers import BertTokenizer\n",
        "from torch.utils.data import TensorDataset\n",
        "\n",
        "from transformers import BertForSequenceClassification"
      ],
      "execution_count": 139,
      "outputs": []
    },
    {
      "cell_type": "code",
      "metadata": {
        "id": "iZBHyja8Ztgn"
      },
      "source": [
        "max_seq_len = 24"
      ],
      "execution_count": 140,
      "outputs": []
    },
    {
      "cell_type": "code",
      "metadata": {
        "id": "3uV7zG8BE8eT"
      },
      "source": [
        "seq_len = 24\n",
        "num_samples = len(df)\n",
        "\n",
        "# initialize empty zero arrays\n",
        "Xids = np.zeros((num_samples, seq_len))\n",
        "Xmask = np.zeros((num_samples, seq_len))\n",
        "\n",
        "# check shape\n",
        "Xids.shape\n",
        "\n",
        "# initialize tokenizer\n",
        "tokenizer = BertTokenizer.from_pretrained(\"asafaya/bert-base-arabic\")\n",
        "\n",
        "\n",
        "#tokenizer = BertTokenizer.from_pretrained(\"aubmindlab/bert-base-arabert\")\n",
        "\n",
        "for i, phrase in enumerate(df['question']):\n",
        "    tokens = tokenizer.encode_plus(phrase, max_length=seq_len, truncation=True,\n",
        "                                   padding='max_length', add_special_tokens=True,\n",
        "                                   return_tensors='tf')\n",
        "    # assign tokenized outputs to respective rows in numpy arrays\n",
        "    Xids[i, :] = tokens['input_ids']\n",
        "    Xmask[i, :] = tokens['attention_mask']"
      ],
      "execution_count": 141,
      "outputs": []
    },
    {
      "cell_type": "code",
      "metadata": {
        "id": "-oT8oN3MYKeW"
      },
      "source": [
        "import tensorflow as tf\n",
        "import tensorflow \n",
        "\n",
        "from tensorflow import keras\n",
        "from keras.layers import Dense"
      ],
      "execution_count": 142,
      "outputs": []
    },
    {
      "cell_type": "code",
      "metadata": {
        "id": "AJjEsWvAE8hQ"
      },
      "source": [
        "# first extract sentiment column\n",
        "arr = df['label'].values\n",
        "\n",
        "# we then initialize the zero array\n",
        "labels = np.zeros((num_samples, arr.max()+1))\n",
        "\n",
        "# set relevant index for each row to 1 (one-hot encode)\n",
        "labels[np.arange(num_samples), arr] = 1"
      ],
      "execution_count": 143,
      "outputs": []
    },
    {
      "cell_type": "code",
      "metadata": {
        "id": "aKuyMJcUE8kC"
      },
      "source": [
        "# create the dataset object\n",
        "dataset = tf.data.Dataset.from_tensor_slices((Xids, Xmask, labels))\n",
        "\n",
        "def map_func(input_ids, masks, labels):\n",
        "    # we convert our three-item tuple into a two-item tuple where the input item is a dictionary\n",
        "    return {'input_ids': input_ids, 'attention_mask': masks}, labels\n",
        "\n",
        "# then we use the dataset map method to apply this transformation\n",
        "dataset = dataset.map(map_func)"
      ],
      "execution_count": 144,
      "outputs": []
    },
    {
      "cell_type": "code",
      "metadata": {
        "id": "b88WfgYeE8mj"
      },
      "source": [
        "# we will split into batches of 16\n",
        "batch_size = 16\n",
        "\n",
        "# shuffle and batch - dropping any remaining samples that don't cleanly\n",
        "# fit into a batch of 16\n",
        "dataset = dataset.shuffle(10000).batch(batch_size, drop_remainder=True)"
      ],
      "execution_count": 145,
      "outputs": []
    },
    {
      "cell_type": "markdown",
      "metadata": {
        "id": "oma7YcCleUhn"
      },
      "source": [
        "# split test and train"
      ]
    },
    {
      "cell_type": "code",
      "metadata": {
        "id": "CoqwVpr9E8o-"
      },
      "source": [
        "# set split size (90% training data) and calculate training set size\n",
        "split = 0.7\n",
        "size = int((Xids.shape[0]/batch_size)*split)\n",
        "\n",
        "# get training and validation sets\n",
        "train_ds = dataset.take(size)\n",
        "val_ds = dataset.skip(size)"
      ],
      "execution_count": 146,
      "outputs": []
    },
    {
      "cell_type": "code",
      "metadata": {
        "colab": {
          "base_uri": "https://localhost:8080/"
        },
        "id": "2fhsh4nPE8rz",
        "outputId": "f57f7a06-48e0-4c00-ccda-df7df159312d"
      },
      "source": [
        "# AutoModel for PyTorch, TFAutoModel for TensorFlow\n",
        "from transformers import TFAutoModel\n",
        "\n",
        "bert = TFAutoModel.from_pretrained(\"asafaya/bert-base-arabic\")\n",
        "\n",
        "#bert = TFAutoModel.from_pretrained(\"aubmindlab/bert-base-arabert\")\n",
        "\n"
      ],
      "execution_count": 147,
      "outputs": [
        {
          "output_type": "stream",
          "text": [
            "Some layers from the model checkpoint at asafaya/bert-base-arabic were not used when initializing TFBertModel: ['mlm___cls']\n",
            "- This IS expected if you are initializing TFBertModel from the checkpoint of a model trained on another task or with another architecture (e.g. initializing a BertForSequenceClassification model from a BertForPreTraining model).\n",
            "- This IS NOT expected if you are initializing TFBertModel from the checkpoint of a model that you expect to be exactly identical (initializing a BertForSequenceClassification model from a BertForSequenceClassification model).\n",
            "All the layers of TFBertModel were initialized from the model checkpoint at asafaya/bert-base-arabic.\n",
            "If your task is similar to the task the model of the checkpoint was trained on, you can already use TFBertModel for predictions without further training.\n"
          ],
          "name": "stderr"
        }
      ]
    },
    {
      "cell_type": "code",
      "metadata": {
        "id": "xNsOJ0JLE8uS"
      },
      "source": [
        "# two input layers, we ensure layer name variables match to dictionary keys in TF dataset\n",
        "input_ids = tf.keras.layers.Input(shape=(24,), name='input_ids', dtype='int32')\n",
        "mask = tf.keras.layers.Input(shape=(24,), name='attention_mask', dtype='int32')\n",
        "\n",
        "# we access the transformer model within our bert object using the bert attribute (eg bert.bert instead of bert)\n",
        "embeddings = bert.bert(input_ids, attention_mask=mask)[1]  # access pooled activations with [1]\n",
        "\n",
        "# convert bert embeddings into 5 output classes\n",
        "x = tf.keras.layers.Dense(1024, activation='relu')(embeddings)\n",
        "y = tf.keras.layers.Dense(4, activation='softmax', name='outputs')(x)"
      ],
      "execution_count": 148,
      "outputs": []
    },
    {
      "cell_type": "code",
      "metadata": {
        "id": "qx7KlRdmE8xV"
      },
      "source": [
        "# initialize model\n",
        "model = tf.keras.Model(inputs=[input_ids, mask], outputs=y)\n",
        "\n",
        "# (optional) freeze bert layer\n",
        "#model.layers[2].trainable = False"
      ],
      "execution_count": 149,
      "outputs": []
    },
    {
      "cell_type": "code",
      "metadata": {
        "colab": {
          "base_uri": "https://localhost:8080/"
        },
        "id": "mZJqrXDhZogU",
        "outputId": "147cee9c-81d6-4f50-974f-71dcfef4db8d"
      },
      "source": [
        "\n",
        "optimizer = tf.keras.optimizers.Adam(lr=1e-5, decay=1e-6)\n",
        "loss = tf.keras.losses.CategoricalCrossentropy()\n",
        "acc = tf.keras.metrics.CategoricalAccuracy('accuracy')\n",
        "\n",
        "model.compile(optimizer=optimizer, loss=loss, metrics=[acc])"
      ],
      "execution_count": 150,
      "outputs": [
        {
          "output_type": "stream",
          "text": [
            "/usr/local/lib/python3.7/dist-packages/tensorflow/python/keras/optimizer_v2/optimizer_v2.py:375: UserWarning: The `lr` argument is deprecated, use `learning_rate` instead.\n",
            "  \"The `lr` argument is deprecated, use `learning_rate` instead.\")\n"
          ],
          "name": "stderr"
        }
      ]
    },
    {
      "cell_type": "code",
      "metadata": {
        "id": "ydfncTMQO9aZ"
      },
      "source": [
        ""
      ],
      "execution_count": 150,
      "outputs": []
    },
    {
      "cell_type": "code",
      "metadata": {
        "id": "z06DAa6GZood"
      },
      "source": [
        "#history = model.fit(\n",
        " #   train_ds,\n",
        " #   epochs=3\n",
        "#)"
      ],
      "execution_count": 151,
      "outputs": []
    },
    {
      "cell_type": "code",
      "metadata": {
        "id": "-cQeIYKjiZKY"
      },
      "source": [
        ""
      ],
      "execution_count": 151,
      "outputs": []
    },
    {
      "cell_type": "code",
      "metadata": {
        "id": "-n1-aTnAe_YT"
      },
      "source": [
        "#loss, accuracy = model.evaluate(val_ds)"
      ],
      "execution_count": 152,
      "outputs": []
    },
    {
      "cell_type": "markdown",
      "metadata": {
        "id": "aqOFxS-FkwFh"
      },
      "source": [
        "# documentation"
      ]
    },
    {
      "cell_type": "code",
      "metadata": {
        "colab": {
          "base_uri": "https://localhost:8080/"
        },
        "id": "cKMNtxp8kXXG",
        "outputId": "e93c1b1b-e9de-4cd4-dd04-fc9f03b083f7"
      },
      "source": [
        "\n",
        "import os\n",
        "import shutil\n",
        "\n",
        "import tensorflow as tf\n",
        "import tensorflow_hub as hub\n",
        "\n",
        "\n",
        "\n",
        "import matplotlib.pyplot as plt\n",
        "\n",
        "tf.get_logger().setLevel('ERROR')\n",
        "\n",
        "loss = tf.keras.losses.BinaryCrossentropy(from_logits=True)\n",
        "metrics = tf.metrics.BinaryAccuracy()\n",
        "\n",
        "epochs = 15\n",
        "steps_per_epoch = tf.data.experimental.cardinality(train_ds).numpy()\n",
        "num_train_steps = steps_per_epoch * epochs\n",
        "num_warmup_steps = int(0.1*num_train_steps)\n",
        "\n",
        "init_lr = 3e-5\n",
        "optimizer = tf.keras.optimizers.Adam(lr=1e-5, decay=1e-6)\n",
        "\n",
        "model.compile(optimizer=optimizer,\n",
        "                         loss=loss,\n",
        "                         metrics=metrics)\n",
        "#model.compile(optimizer=optimizer, loss=loss, metrics=[acc])\n",
        "\n",
        "history =model.fit(x=train_ds,\n",
        "                               validation_data=val_ds,\n",
        "                               epochs=epochs)"
      ],
      "execution_count": 153,
      "outputs": [
        {
          "output_type": "stream",
          "text": [
            "/usr/local/lib/python3.7/dist-packages/tensorflow/python/keras/optimizer_v2/optimizer_v2.py:375: UserWarning: The `lr` argument is deprecated, use `learning_rate` instead.\n",
            "  \"The `lr` argument is deprecated, use `learning_rate` instead.\")\n"
          ],
          "name": "stderr"
        },
        {
          "output_type": "stream",
          "text": [
            "Epoch 1/15\n"
          ],
          "name": "stdout"
        },
        {
          "output_type": "stream",
          "text": [
            "/usr/local/lib/python3.7/dist-packages/tensorflow/python/keras/backend.py:5017: UserWarning: \"`binary_crossentropy` received `from_logits=True`, but the `output` argument was produced by a sigmoid or softmax activation and thus does not represent logits. Was this intended?\"\n",
            "  '\"`binary_crossentropy` received `from_logits=True`, but the `output`'\n"
          ],
          "name": "stderr"
        },
        {
          "output_type": "stream",
          "text": [
            "86/86 [==============================] - 470s 5s/step - loss: 0.4348 - binary_accuracy: 0.8109 - val_loss: 0.3183 - val_binary_accuracy: 0.8692\n",
            "Epoch 2/15\n",
            "86/86 [==============================] - 461s 5s/step - loss: 0.2873 - binary_accuracy: 0.8864 - val_loss: 0.2121 - val_binary_accuracy: 0.9219\n",
            "Epoch 3/15\n",
            "86/86 [==============================] - 459s 5s/step - loss: 0.2213 - binary_accuracy: 0.9157 - val_loss: 0.1470 - val_binary_accuracy: 0.9519\n",
            "Epoch 4/15\n",
            "86/86 [==============================] - 460s 5s/step - loss: 0.1694 - binary_accuracy: 0.9400 - val_loss: 0.1097 - val_binary_accuracy: 0.9659\n",
            "Epoch 5/15\n",
            "86/86 [==============================] - 461s 5s/step - loss: 0.1308 - binary_accuracy: 0.9571 - val_loss: 0.0779 - val_binary_accuracy: 0.9786\n",
            "Epoch 6/15\n",
            "86/86 [==============================] - 453s 5s/step - loss: 0.1014 - binary_accuracy: 0.9648 - val_loss: 0.0486 - val_binary_accuracy: 0.9877\n",
            "Epoch 7/15\n",
            "86/86 [==============================] - 465s 5s/step - loss: 0.0702 - binary_accuracy: 0.9807 - val_loss: 0.0347 - val_binary_accuracy: 0.9934\n",
            "Epoch 8/15\n",
            "86/86 [==============================] - 441s 5s/step - loss: 0.0447 - binary_accuracy: 0.9895 - val_loss: 0.0340 - val_binary_accuracy: 0.9910\n",
            "Epoch 9/15\n",
            "86/86 [==============================] - 435s 5s/step - loss: 0.0506 - binary_accuracy: 0.9866 - val_loss: 0.0330 - val_binary_accuracy: 0.9934\n",
            "Epoch 10/15\n",
            "86/86 [==============================] - 445s 5s/step - loss: 0.0357 - binary_accuracy: 0.9920 - val_loss: 0.0198 - val_binary_accuracy: 0.9951\n",
            "Epoch 11/15\n",
            "86/86 [==============================] - 443s 5s/step - loss: 0.0289 - binary_accuracy: 0.9909 - val_loss: 0.0133 - val_binary_accuracy: 0.9967\n",
            "Epoch 12/15\n",
            "86/86 [==============================] - 476s 6s/step - loss: 0.0218 - binary_accuracy: 0.9945 - val_loss: 0.0056 - val_binary_accuracy: 0.9992\n",
            "Epoch 13/15\n",
            "86/86 [==============================] - 469s 5s/step - loss: 0.0206 - binary_accuracy: 0.9942 - val_loss: 0.0144 - val_binary_accuracy: 0.9975\n",
            "Epoch 14/15\n",
            "86/86 [==============================] - 478s 6s/step - loss: 0.0153 - binary_accuracy: 0.9967 - val_loss: 0.0132 - val_binary_accuracy: 0.9975\n",
            "Epoch 15/15\n",
            "86/86 [==============================] - 461s 5s/step - loss: 0.0163 - binary_accuracy: 0.9964 - val_loss: 0.0072 - val_binary_accuracy: 0.9992\n"
          ],
          "name": "stdout"
        }
      ]
    },
    {
      "cell_type": "code",
      "metadata": {
        "colab": {
          "base_uri": "https://localhost:8080/",
          "height": 484
        },
        "id": "b1WNodHskPBY",
        "outputId": "3307da91-c0e1-4d9b-e2aa-a6987e28e023"
      },
      "source": [
        "history_dict = history.history\n",
        "print(history_dict.keys())\n",
        "\n",
        "acc = history_dict['binary_accuracy']\n",
        "val_acc = history_dict['val_binary_accuracy']\n",
        "loss = history_dict['loss']\n",
        "val_loss = history_dict['val_loss']\n",
        "\n",
        "epochs = range(1, len(acc) + 1)\n",
        "fig = plt.figure(figsize=(10, 6))\n",
        "fig.tight_layout()\n",
        "\n",
        "st = fig.suptitle('         Asafaya/bert-base-arabic\\n \\n' ,weight=\"bold\")\n",
        "\n",
        "\n",
        "plt.subplot(2, 1, 1)\n",
        "# \"bo\" is for \"blue dot\"\n",
        "plt.plot(epochs, loss, 'r', label='Training loss')\n",
        "# b is for \"solid blue line\"\n",
        "plt.plot(epochs, val_loss, 'b', label='Validation loss')\n",
        "plt.title('Training and validation loss')\n",
        "# plt.xlabel('Epochs')\n",
        "plt.ylabel('Loss')\n",
        "plt.legend()\n",
        "print(\"\\n\")\n",
        "\n",
        "plt.subplot(2, 1, 2)\n",
        "plt.plot(epochs, acc, 'r', label='Training acc')\n",
        "plt.plot(epochs, val_acc, 'b', label='Validation acc')\n",
        "plt.title('Training and validation accuracy')\n",
        "plt.xlabel('Epochs')\n",
        "plt.ylabel('Accuracy')\n",
        "plt.legend(loc='lower right')\n",
        "\n",
        "\n",
        "plt.tight_layout()\n",
        "\n",
        "\n",
        "\n",
        "# shift subplots down:\n",
        "st.set_y(0.95)\n",
        "plt.subplots_adjust(top=0.85)"
      ],
      "execution_count": 154,
      "outputs": [
        {
          "output_type": "stream",
          "text": [
            "dict_keys(['loss', 'binary_accuracy', 'val_loss', 'val_binary_accuracy'])\n",
            "\n",
            "\n"
          ],
          "name": "stdout"
        },
        {
          "output_type": "display_data",
          "data": {
            "image/png": "[encoded data removed]",
            "text/plain": [
              "<Figure size 720x432 with 2 Axes>"
            ]
          },
          "metadata": {
            "tags": [],
            "needs_background": "light"
          }
        }
      ]
    },
    {
      "cell_type": "code",
      "metadata": {
        "colab": {
          "base_uri": "https://localhost:8080/",
          "height": 484
        },
        "id": "6IlfEL6b3MGD",
        "outputId": "1a268f39-5161-4123-e056-8b2f258f11ba"
      },
      "source": [
        "history_dict = history.history\n",
        "print(history_dict.keys())\n",
        "\n",
        "acc = history_dict['binary_accuracy']\n",
        "val_acc = history_dict['val_binary_accuracy']\n",
        "loss = history_dict['loss']\n",
        "val_loss = history_dict['val_loss']\n",
        "\n",
        "epochs = range(1, len(acc) + 1)\n",
        "fig = plt.figure(figsize=(10, 6))\n",
        "fig.tight_layout()\n",
        "\n",
        "\n",
        "st = fig.suptitle('         Asafaya/bert-base-arabic\\n \\n' ,weight=\"bold\")\n",
        "\n",
        "plt.subplot(2, 1, 1)\n",
        "# \"bo\" is for \"blue dot\"\n",
        "plt.plot(epochs, loss, 'black',linestyle='dashed', label='Training loss')\n",
        "# b is for \"solid blue line\"\n",
        "plt.plot(epochs, val_loss, 'black',label='Validation loss')\n",
        "plt.title('Training and validation loss')\n",
        "# plt.xlabel('Epochs')\n",
        "plt.ylabel('Loss')\n",
        "plt.legend()\n",
        "print(\"\\n\")\n",
        "\n",
        "\n",
        "plt.subplot(2, 1, 2)\n",
        "plt.plot(epochs, acc, 'black',linestyle='dashed', label='Training acc')\n",
        "plt.plot(epochs, val_acc, 'black', label='Validation acc')\n",
        "plt.title('\\n \\n Training and validation accuracy')\n",
        "plt.xlabel('Epochs')\n",
        "plt.ylabel('Accuracy')\n",
        "plt.legend(loc='lower right')\n",
        "\n",
        "\n",
        "\n",
        "import matplotlib.pyplot as plt\n",
        "\n",
        "\n",
        "plt.tight_layout() # Or equivalently,  \"plt.tight_layout()\"\n",
        "\n",
        "#plt.show()\n",
        "\n",
        "\n",
        "# shift subplots down:\n",
        "st.set_y(0.95)\n",
        "plt.subplots_adjust(top=0.85)"
      ],
      "execution_count": 155,
      "outputs": [
        {
          "output_type": "stream",
          "text": [
            "dict_keys(['loss', 'binary_accuracy', 'val_loss', 'val_binary_accuracy'])\n",
            "\n",
            "\n"
          ],
          "name": "stdout"
        },
        {
          "output_type": "display_data",
          "data": {
            "image/png": "[encoded data removed]",
            "text/plain": [
              "<Figure size 720x432 with 2 Axes>"
            ]
          },
          "metadata": {
            "tags": [],
            "needs_background": "light"
          }
        }
      ]
    },
    {
      "cell_type": "markdown",
      "metadata": {
        "id": "PWWc8HgXc4X7"
      },
      "source": [
        "# saving model"
      ]
    },
    {
      "cell_type": "code",
      "metadata": {
        "id": "IRoIYLXnaxED"
      },
      "source": [
        "# save model files to directory '/sentiment_model'\n",
        "directory='/content/gdrive/My Drive/kera22.model'\n",
        "model.save(directory)"
      ],
      "execution_count": null,
      "outputs": []
    },
    {
      "cell_type": "code",
      "metadata": {
        "id": "jilhumkBaxPW"
      },
      "source": [
        "model = tf.keras.models.load_model('/content/gdrive/My Drive/kera22.model')"
      ],
      "execution_count": null,
      "outputs": []
    },
    {
      "cell_type": "code",
      "metadata": {
        "id": "Jait6wx5Zov0"
      },
      "source": [
        ""
      ],
      "execution_count": null,
      "outputs": []
    },
    {
      "cell_type": "markdown",
      "metadata": {
        "id": "UQKEpnv1hKAG"
      },
      "source": [
        "input preparing"
      ]
    },
    {
      "cell_type": "code",
      "metadata": {
        "id": "GGHHjGSThMq7"
      },
      "source": [
        "# initialize tokenizer from transformers\n",
        "tokenizer = BertTokenizer.from_pretrained(\"asafaya/bert-base-arabic\")\n",
        "\n",
        "def prep_data(text):\n",
        "    # tokenize to get input IDs and attention mask tensors\n",
        "    tokens = tokenizer.encode_plus(text, max_length=25,\n",
        "                                   truncation=True, padding='max_length',\n",
        "                                   add_special_tokens=True, return_token_type_ids=False,\n",
        "                                   return_tensors='tf')\n",
        "    # tokenizer returns int32 tensors, we need to return float64, so we use tf.cast\n",
        "    return {'input_ids': tf.cast(tokens['input_ids'], tf.float64),\n",
        "            'attention_mask': tf.cast(tokens['attention_mask'], tf.float64)}"
      ],
      "execution_count": null,
      "outputs": []
    },
    {
      "cell_type": "code",
      "metadata": {
        "id": "xZK9E3PIq2_C"
      },
      "source": [
        ""
      ],
      "execution_count": null,
      "outputs": []
    },
    {
      "cell_type": "code",
      "metadata": {
        "id": "tbPJGJhohMy8"
      },
      "source": [
        "in_tensor = prep_data(\"ما هي التطعيمات الذي يجب ان ياخذها طفل فيي سن السنه و النصف\")\n",
        "\n",
        "probs = model.predict(in_tensor)[0]\n",
        "\n",
        "probs"
      ],
      "execution_count": null,
      "outputs": []
    },
    {
      "cell_type": "code",
      "metadata": {
        "id": "NDgdn7IYhM3A"
      },
      "source": [
        "import numpy as np\n",
        "\n",
        "np.argmax(probs)"
      ],
      "execution_count": null,
      "outputs": []
    },
    {
      "cell_type": "code",
      "metadata": {
        "id": "xG2Iy5sRp79I"
      },
      "source": [
        "#np.argmin(probs)"
      ],
      "execution_count": null,
      "outputs": []
    },
    {
      "cell_type": "code",
      "metadata": {
        "id": "_tAiykd4hskE"
      },
      "source": [
        "#dff.question[2000]"
      ],
      "execution_count": null,
      "outputs": []
    },
    {
      "cell_type": "code",
      "metadata": {
        "id": "TQ7o4DotiKWA"
      },
      "source": [
        "#dff.label[2000]"
      ],
      "execution_count": null,
      "outputs": []
    },
    {
      "cell_type": "code",
      "metadata": {
        "id": "uC1vb3_QjCW_"
      },
      "source": [
        "pred= np.argmax(probs)\n",
        "#pred=4\n",
        "if pred==0:\n",
        "  print('Drugs')\n",
        "elif pred==1:\n",
        "  print('food+product')\n",
        "elif pred==2:\n",
        "  print('symptoms')\n",
        "elif pred==3:\n",
        "  print('test')\n",
        "elif pred==4:\n",
        "  print('vaccine')    \n",
        "\n",
        "#{'drugs': 0, 'food+product': 1, 'symptoms': 2, 'test': 3, 'vaccine': 4}"
      ],
      "execution_count": null,
      "outputs": []
    },
    {
      "cell_type": "code",
      "metadata": {
        "id": "Bx7Y0nxrreUt"
      },
      "source": [
        ""
      ],
      "execution_count": null,
      "outputs": []
    },
    {
      "cell_type": "code",
      "metadata": {
        "id": "K-mXcssUsJqi"
      },
      "source": [
        ""
      ],
      "execution_count": null,
      "outputs": []
    }
  ]
}